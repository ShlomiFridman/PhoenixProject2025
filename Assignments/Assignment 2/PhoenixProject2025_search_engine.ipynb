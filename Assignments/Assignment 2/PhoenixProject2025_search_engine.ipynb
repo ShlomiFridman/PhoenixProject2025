{
  "nbformat": 4,
  "nbformat_minor": 0,
  "metadata": {
    "colab": {
      "provenance": []
    },
    "kernelspec": {
      "name": "python3",
      "display_name": "Python 3"
    },
    "language_info": {
      "name": "python"
    }
  },
  "cells": [
    {
      "cell_type": "markdown",
      "source": [
        "github link: https://github.com/ShlomiFridman/PhoenixProject2025"
      ],
      "metadata": {
        "id": "8GkvwvPQRDnq"
      }
    },
    {
      "cell_type": "code",
      "execution_count": null,
      "metadata": {
        "id": "xkC_PXGpO64W",
        "colab": {
          "base_uri": "https://localhost:8080/"
        },
        "outputId": "ea912bfb-d489-4b7e-8673-a122d3d2e4a8"
      },
      "outputs": [
        {
          "output_type": "stream",
          "name": "stdout",
          "text": [
            "Requirement already satisfied: requests in /usr/local/lib/python3.10/dist-packages (2.32.3)\n",
            "Requirement already satisfied: beautifulsoup4 in /usr/local/lib/python3.10/dist-packages (4.12.3)\n",
            "Requirement already satisfied: charset-normalizer<4,>=2 in /usr/local/lib/python3.10/dist-packages (from requests) (3.4.0)\n",
            "Requirement already satisfied: idna<4,>=2.5 in /usr/local/lib/python3.10/dist-packages (from requests) (3.10)\n",
            "Requirement already satisfied: urllib3<3,>=1.21.1 in /usr/local/lib/python3.10/dist-packages (from requests) (2.2.3)\n",
            "Requirement already satisfied: certifi>=2017.4.17 in /usr/local/lib/python3.10/dist-packages (from requests) (2024.12.14)\n",
            "Requirement already satisfied: soupsieve>1.2 in /usr/local/lib/python3.10/dist-packages (from beautifulsoup4) (2.6)\n",
            "Requirement already satisfied: requests in /usr/local/lib/python3.10/dist-packages (2.32.3)\n",
            "Requirement already satisfied: beautifulsoup4 in /usr/local/lib/python3.10/dist-packages (4.12.3)\n",
            "Requirement already satisfied: nltk in /usr/local/lib/python3.10/dist-packages (3.9.1)\n",
            "Requirement already satisfied: charset-normalizer<4,>=2 in /usr/local/lib/python3.10/dist-packages (from requests) (3.4.0)\n",
            "Requirement already satisfied: idna<4,>=2.5 in /usr/local/lib/python3.10/dist-packages (from requests) (3.10)\n",
            "Requirement already satisfied: urllib3<3,>=1.21.1 in /usr/local/lib/python3.10/dist-packages (from requests) (2.2.3)\n",
            "Requirement already satisfied: certifi>=2017.4.17 in /usr/local/lib/python3.10/dist-packages (from requests) (2024.12.14)\n",
            "Requirement already satisfied: soupsieve>1.2 in /usr/local/lib/python3.10/dist-packages (from beautifulsoup4) (2.6)\n",
            "Requirement already satisfied: click in /usr/local/lib/python3.10/dist-packages (from nltk) (8.1.7)\n",
            "Requirement already satisfied: joblib in /usr/local/lib/python3.10/dist-packages (from nltk) (1.4.2)\n",
            "Requirement already satisfied: regex>=2021.8.3 in /usr/local/lib/python3.10/dist-packages (from nltk) (2024.11.6)\n",
            "Requirement already satisfied: tqdm in /usr/local/lib/python3.10/dist-packages (from nltk) (4.67.1)\n",
            "Collecting firebase\n",
            "  Downloading firebase-4.0.1-py3-none-any.whl.metadata (6.5 kB)\n",
            "Requirement already satisfied: requests in /usr/local/lib/python3.10/dist-packages (from firebase) (2.32.3)\n",
            "Requirement already satisfied: charset-normalizer<4,>=2 in /usr/local/lib/python3.10/dist-packages (from requests->firebase) (3.4.0)\n",
            "Requirement already satisfied: idna<4,>=2.5 in /usr/local/lib/python3.10/dist-packages (from requests->firebase) (3.10)\n",
            "Requirement already satisfied: urllib3<3,>=1.21.1 in /usr/local/lib/python3.10/dist-packages (from requests->firebase) (2.2.3)\n",
            "Requirement already satisfied: certifi>=2017.4.17 in /usr/local/lib/python3.10/dist-packages (from requests->firebase) (2024.12.14)\n",
            "Downloading firebase-4.0.1-py3-none-any.whl (12 kB)\n",
            "Installing collected packages: firebase\n",
            "Successfully installed firebase-4.0.1\n"
          ]
        }
      ],
      "source": [
        "!pip install requests beautifulsoup4\n",
        "!pip install requests beautifulsoup4 nltk\n",
        "!pip install firebase"
      ]
    },
    {
      "cell_type": "code",
      "source": [
        "import requests\n",
        "import time\n",
        "from urllib.parse import urljoin, urlparse\n",
        "from bs4 import BeautifulSoup\n",
        "from urllib.robotparser import RobotFileParser\n",
        "from nltk.stem import PorterStemmer\n",
        "import re\n",
        "from firebase import firebase"
      ],
      "metadata": {
        "id": "Q-Dcy13DQEaH"
      },
      "execution_count": null,
      "outputs": []
    },
    {
      "cell_type": "code",
      "source": [
        "FBconn = firebase.FirebaseApplication('https://lab6-b3d64-default-rtdb.europe-west1.firebasedatabase.app/',None)"
      ],
      "metadata": {
        "id": "OEQL4Z2sQCD1"
      },
      "execution_count": null,
      "outputs": []
    },
    {
      "cell_type": "markdown",
      "source": [
        "functions for building an index for a page"
      ],
      "metadata": {
        "id": "A-PC6QK9RHqd"
      }
    },
    {
      "cell_type": "code",
      "source": [
        "def index_words(soup):\n",
        "    index = {}\n",
        "    words = re.findall(r'\\w+', soup.get_text())\n",
        "    for word in words:\n",
        "        word = word.lower()\n",
        "        if word in index:\n",
        "            index[word] += 1\n",
        "        else:\n",
        "            index[word] = 1\n",
        "    return index\n",
        "\n",
        "def remove_stop_words(index):\n",
        "    stop_words = {'a', 'an', 'the', 'and', 'or', 'in', 'on', 'at', 'to'}\n",
        "    for stop_word in stop_words:\n",
        "        if stop_word in index:\n",
        "            del index[stop_word]\n",
        "    return index\n",
        "\n",
        "def apply_stemming(index):\n",
        "    stemmer = PorterStemmer()\n",
        "    stemmed_index = {}\n",
        "    for word, count in index.items():\n",
        "        stemmed_word = stemmer.stem(word)\n",
        "        if stemmed_word in stemmed_index:\n",
        "            stemmed_index[stemmed_word] += count\n",
        "        else:\n",
        "            stemmed_index[stemmed_word] = count\n",
        "    return stemmed_index"
      ],
      "metadata": {
        "id": "F6TbEGJrQJz8"
      },
      "execution_count": null,
      "outputs": []
    },
    {
      "cell_type": "markdown",
      "source": [
        "functions to handle the crawling"
      ],
      "metadata": {
        "id": "xOZCfKrsRQyS"
      }
    },
    {
      "cell_type": "code",
      "source": [
        "# Function to fetch and parse the robots.txt file to check permissions\n",
        "def check_robot(url):\n",
        "    robot_url = urljoin(url, '/robots.txt')\n",
        "    rp = RobotFileParser()\n",
        "    rp.set_url(robot_url)\n",
        "    # Fetch and parse robots.txt file\n",
        "    rp.read()\n",
        "    return rp"
      ],
      "metadata": {
        "id": "Y7ZP3ov4SyLa"
      },
      "execution_count": null,
      "outputs": []
    },
    {
      "cell_type": "code",
      "source": [
        "# Function to fetch and parse a page\n",
        "def fetch_page_crawler(url, rp):\n",
        "    # Check if the URL is allowed to be crawled according to robots.txt\n",
        "    if not rp.can_fetch('*', url):  # '*' means all user agents\n",
        "        print(f\"Blocked by robots.txt: {url}\")\n",
        "        return None\n",
        "\n",
        "    try:\n",
        "        response = requests.get(url, timeout=5)\n",
        "        response.raise_for_status()  # Will raise an exception for 4xx or 5xx responses\n",
        "        return response.text\n",
        "    except requests.exceptions.RequestException as e:\n",
        "        print(f\"Error fetching {url}: {e}\")\n",
        "        return None"
      ],
      "metadata": {
        "id": "eE-rESrCQQZ4"
      },
      "execution_count": null,
      "outputs": []
    },
    {
      "cell_type": "code",
      "source": [
        "# Function to extract internal links from a page\n",
        "def extract_links(page_content, base_url):\n",
        "    soup = BeautifulSoup(page_content, 'html.parser')\n",
        "    links = set()\n",
        "\n",
        "    # Find all anchor tags and extract the href attribute\n",
        "    for anchor in soup.find_all('a', href=True):\n",
        "        href = anchor['href']\n",
        "\n",
        "        # Resolve relative URLs to absolute URLs\n",
        "        full_url = urljoin(base_url, href)\n",
        "\n",
        "        # Only add links that are within the same domain (ibm.com)\n",
        "        if urlparse(full_url).netloc == urlparse(base_url).netloc:\n",
        "            links.add(full_url)\n",
        "\n",
        "    return links"
      ],
      "metadata": {
        "id": "C64D2c0IQRa8"
      },
      "execution_count": null,
      "outputs": []
    },
    {
      "cell_type": "code",
      "source": [
        "# Function to crawl a website and fetch n pages\n",
        "def crawl_website(base_url, max_pages):\n",
        "    rp = check_robot(base_url)  # Check the robots.txt file\n",
        "    crawled_urls = set()  # Set to avoid revisiting pages\n",
        "    urls_to_crawl = [base_url]  # Initialize the queue with the base URL\n",
        "    crawled_count = 0  # Counter for the number of crawled pages\n",
        "    urls_index = {}\n",
        "    ignore_urls = [\"form\", \"mp3\", \"mp4\", \"downloads\"]\n",
        "\n",
        "    while urls_to_crawl and crawled_count < max_pages:\n",
        "        current_url = urls_to_crawl.pop(0)\n",
        "\n",
        "        if current_url in crawled_urls:\n",
        "            continue  # Skip already crawled URLs\n",
        "\n",
        "        print(f\"Crawling {crawled_count+1}: {current_url}\")\n",
        "        page_content = fetch_page_crawler(current_url, rp)\n",
        "\n",
        "        if page_content:\n",
        "            crawled_urls.add(current_url)\n",
        "            crawled_count += 1\n",
        "\n",
        "            # Extract and queue new links to crawl\n",
        "            new_links = extract_links(page_content, base_url)\n",
        "            for link in new_links:\n",
        "                cond1 = any(bad_url in link for bad_url in ignore_urls)\n",
        "                cond2 = any(u for u in crawled_urls if (f\"{u}#\" in link))\n",
        "                cond = cond1 or cond2\n",
        "                if link not in crawled_urls and link not in urls_to_crawl and not cond:\n",
        "                    urls_to_crawl.append(link)\n",
        "\n",
        "            soup = BeautifulSoup(page_content, 'html.parser')\n",
        "            u_index = index_words(soup)\n",
        "            u_index = remove_stop_words(u_index)\n",
        "            u_index = apply_stemming(u_index)\n",
        "            urls_index[current_url] = u_index\n",
        "            # Delay between requests to avoid overwhelming the server\n",
        "            time.sleep(2)  # Sleep for 2 seconds between requests (politeness)\n",
        "\n",
        "    print(f\"\\nCrawled {crawled_count} pages.\")\n",
        "    return crawled_urls, urls_index"
      ],
      "metadata": {
        "id": "D1lfdE8MQS65"
      },
      "execution_count": null,
      "outputs": []
    },
    {
      "cell_type": "markdown",
      "source": [
        "firebase functions"
      ],
      "metadata": {
        "id": "dE6sX52BRZ5Z"
      }
    },
    {
      "cell_type": "code",
      "source": [
        "def get_index_from_DB():\n",
        "  return FBconn.get('/Index/', None)"
      ],
      "metadata": {
        "id": "YGy4IPsYRpWY"
      },
      "execution_count": null,
      "outputs": []
    },
    {
      "cell_type": "code",
      "source": [
        "def update_index_in_db(index_p):\n",
        "  for k,v in index_p.items():\n",
        "    FBconn.put(\"/Index/\", k, v)\n",
        "    print(f\"update made:\\n\\tIndex={k}\\ntValues={v}\")\n",
        "  print(\"Updated given index in DB\")"
      ],
      "metadata": {
        "id": "qoUYvZQ2QVkP"
      },
      "execution_count": null,
      "outputs": []
    },
    {
      "cell_type": "markdown",
      "source": [
        "The index we defined"
      ],
      "metadata": {
        "id": "m3mJsgmSRyZq"
      }
    },
    {
      "cell_type": "code",
      "source": [
        "init_index = [\n",
        "    'private',\n",
        "    'public',\n",
        "    'hybrid',\n",
        "    'SAAS',\n",
        "    'PAAS',\n",
        "    'IAAS',\n",
        "    'study',\n",
        "    'chatbot',\n",
        "    'engine',\n",
        "    'AI'\n",
        "]"
      ],
      "metadata": {
        "id": "lrS3TIYxQarT"
      },
      "execution_count": null,
      "outputs": []
    },
    {
      "cell_type": "markdown",
      "source": [
        "Processing the index and saving it in DB"
      ],
      "metadata": {
        "id": "iR-a2Dc3R2Xw"
      }
    },
    {
      "cell_type": "code",
      "source": [
        "stemmer = PorterStemmer()\n",
        "stemmed_init_index = {}\n",
        "for i in init_index:\n",
        "  stemmed_i = stemmer.stem(i)\n",
        "  stemmed_init_index[stemmed_i] = {\"original_index\":i, \"cntr\":0}\n",
        "\n",
        "update_index_in_db(stemmed_init_index)"
      ],
      "metadata": {
        "colab": {
          "base_uri": "https://localhost:8080/"
        },
        "id": "yoMFSv5cQX--",
        "outputId": "b225fd2d-2fac-4bb5-bb64-9e4675b1bbfb"
      },
      "execution_count": null,
      "outputs": [
        {
          "output_type": "stream",
          "name": "stdout",
          "text": [
            "update made:\n",
            "\tIndex=privat\n",
            "tValues={'original_index': 'private', 'cntr': 0}\n",
            "update made:\n",
            "\tIndex=public\n",
            "tValues={'original_index': 'public', 'cntr': 0}\n",
            "update made:\n",
            "\tIndex=hybrid\n",
            "tValues={'original_index': 'hybrid', 'cntr': 0}\n",
            "update made:\n",
            "\tIndex=saa\n",
            "tValues={'original_index': 'SAAS', 'cntr': 0}\n",
            "update made:\n",
            "\tIndex=paa\n",
            "tValues={'original_index': 'PAAS', 'cntr': 0}\n",
            "update made:\n",
            "\tIndex=iaa\n",
            "tValues={'original_index': 'IAAS', 'cntr': 0}\n",
            "update made:\n",
            "\tIndex=studi\n",
            "tValues={'original_index': 'study', 'cntr': 0}\n",
            "update made:\n",
            "\tIndex=chatbot\n",
            "tValues={'original_index': 'chatbot', 'cntr': 0}\n",
            "update made:\n",
            "\tIndex=engin\n",
            "tValues={'original_index': 'engine', 'cntr': 0}\n",
            "update made:\n",
            "\tIndex=ai\n",
            "tValues={'original_index': 'AI', 'cntr': 0}\n",
            "Updated given index in DB\n"
          ]
        }
      ]
    },
    {
      "cell_type": "code",
      "source": [
        "# Set the base URL for the IBM website or any other URL to crawl\n",
        "BASE_URL = 'https://www.ibm.com/us-en'\n",
        "\n",
        "# To limit the number of pages to crawl\n",
        "MAX_PAGES = 200\n",
        "\n",
        "urls, urls_index = crawl_website(BASE_URL, MAX_PAGES)"
      ],
      "metadata": {
        "colab": {
          "base_uri": "https://localhost:8080/",
          "height": 384
        },
        "id": "NRGaJtakQvim",
        "outputId": "22d53fac-2e3c-4d4e-8f6c-be1a893eba60"
      },
      "execution_count": null,
      "outputs": [
        {
          "output_type": "stream",
          "name": "stdout",
          "text": [
            "Crawling 1: https://www.ibm.com/us-en\n",
            "Crawling 2: https://www.ibm.com/artificial-intelligence?lnk=ProdC\n",
            "Crawling 3: https://www.ibm.com/consulting?lnk=ProdC\n",
            "Crawling 4: https://www.ibm.com/impact/ai-ethics?lnk=bus\n"
          ]
        },
        {
          "output_type": "error",
          "ename": "KeyboardInterrupt",
          "evalue": "",
          "traceback": [
            "\u001b[0;31m---------------------------------------------------------------------------\u001b[0m",
            "\u001b[0;31mKeyboardInterrupt\u001b[0m                         Traceback (most recent call last)",
            "\u001b[0;32m<ipython-input-19-08b082e23a27>\u001b[0m in \u001b[0;36m<cell line: 7>\u001b[0;34m()\u001b[0m\n\u001b[1;32m      5\u001b[0m \u001b[0mMAX_PAGES\u001b[0m \u001b[0;34m=\u001b[0m \u001b[0;36m200\u001b[0m\u001b[0;34m\u001b[0m\u001b[0;34m\u001b[0m\u001b[0m\n\u001b[1;32m      6\u001b[0m \u001b[0;34m\u001b[0m\u001b[0m\n\u001b[0;32m----> 7\u001b[0;31m \u001b[0murls\u001b[0m\u001b[0;34m,\u001b[0m \u001b[0murls_index\u001b[0m \u001b[0;34m=\u001b[0m \u001b[0mcrawl_website\u001b[0m\u001b[0;34m(\u001b[0m\u001b[0mBASE_URL\u001b[0m\u001b[0;34m,\u001b[0m \u001b[0mMAX_PAGES\u001b[0m\u001b[0;34m)\u001b[0m\u001b[0;34m\u001b[0m\u001b[0;34m\u001b[0m\u001b[0m\n\u001b[0m",
            "\u001b[0;32m<ipython-input-10-353cd05ad0c6>\u001b[0m in \u001b[0;36mcrawl_website\u001b[0;34m(base_url, max_pages)\u001b[0m\n\u001b[1;32m     36\u001b[0m             \u001b[0murls_index\u001b[0m\u001b[0;34m[\u001b[0m\u001b[0mcurrent_url\u001b[0m\u001b[0;34m]\u001b[0m \u001b[0;34m=\u001b[0m \u001b[0mu_index\u001b[0m\u001b[0;34m\u001b[0m\u001b[0;34m\u001b[0m\u001b[0m\n\u001b[1;32m     37\u001b[0m             \u001b[0;31m# Delay between requests to avoid overwhelming the server\u001b[0m\u001b[0;34m\u001b[0m\u001b[0;34m\u001b[0m\u001b[0m\n\u001b[0;32m---> 38\u001b[0;31m             \u001b[0mtime\u001b[0m\u001b[0;34m.\u001b[0m\u001b[0msleep\u001b[0m\u001b[0;34m(\u001b[0m\u001b[0;36m2\u001b[0m\u001b[0;34m)\u001b[0m  \u001b[0;31m# Sleep for 2 seconds between requests (politeness)\u001b[0m\u001b[0;34m\u001b[0m\u001b[0;34m\u001b[0m\u001b[0m\n\u001b[0m\u001b[1;32m     39\u001b[0m \u001b[0;34m\u001b[0m\u001b[0m\n\u001b[1;32m     40\u001b[0m     \u001b[0mprint\u001b[0m\u001b[0;34m(\u001b[0m\u001b[0;34mf\"\\nCrawled {crawled_count} pages.\"\u001b[0m\u001b[0;34m)\u001b[0m\u001b[0;34m\u001b[0m\u001b[0;34m\u001b[0m\u001b[0m\n",
            "\u001b[0;31mKeyboardInterrupt\u001b[0m: "
          ]
        }
      ]
    },
    {
      "cell_type": "code",
      "source": [
        "index_from_DB = get_index_from_DB()\n",
        "for k,v in index_from_DB.items():\n",
        "  v['urls'] = []\n",
        "  v[\"cntr\"] = 0\n",
        "print(index_from_DB)"
      ],
      "metadata": {
        "colab": {
          "base_uri": "https://localhost:8080/"
        },
        "id": "2UE2Dwo2Qynv",
        "outputId": "1f8bab81-936b-492f-81de-42f4e0c2c84b"
      },
      "execution_count": null,
      "outputs": [
        {
          "output_type": "stream",
          "name": "stdout",
          "text": [
            "{'ai': {'cntr': 0, 'original_index': 'AI', 'urls': []}, 'chatbot': {'cntr': 0, 'original_index': 'chatbot', 'urls': []}, 'engin': {'cntr': 0, 'original_index': 'engine', 'urls': []}, 'hybrid': {'cntr': 0, 'original_index': 'hybrid', 'urls': []}, 'iaa': {'cntr': 0, 'original_index': 'IAAS', 'urls': []}, 'paa': {'cntr': 0, 'original_index': 'PAAS', 'urls': []}, 'privat': {'cntr': 0, 'original_index': 'private', 'urls': []}, 'public': {'cntr': 0, 'original_index': 'public', 'urls': []}, 'saa': {'cntr': 0, 'original_index': 'SAAS', 'urls': []}, 'studi': {'cntr': 0, 'original_index': 'study', 'urls': []}}\n"
          ]
        }
      ]
    },
    {
      "cell_type": "code",
      "source": [
        "for u,u_vals in urls_index.items():\n",
        "    print(f\"Indexing url={u}\")\n",
        "    # soup = fetch_page(u)\n",
        "    # if soup is None:\n",
        "    #     continue\n",
        "    # index = index_words(soup)\n",
        "    # index = remove_stop_words(index)\n",
        "    # index = apply_stemming(index)\n",
        "    for our_ind, our_ind_vals in index_from_DB.items():\n",
        "      if our_ind in u_vals:\n",
        "        our_ind_vals['cntr'] += u_vals[our_ind]\n",
        "        our_ind_vals['urls'].append(u)\n",
        "\n",
        "print(\"Finish indexing process\")"
      ],
      "metadata": {
        "colab": {
          "base_uri": "https://localhost:8080/",
          "height": 211
        },
        "id": "1Sk45qQPQ1QM",
        "outputId": "e396b079-c403-411e-fece-99ff63e1e2f3"
      },
      "execution_count": null,
      "outputs": [
        {
          "output_type": "error",
          "ename": "NameError",
          "evalue": "name 'urls_index' is not defined",
          "traceback": [
            "\u001b[0;31m---------------------------------------------------------------------------\u001b[0m",
            "\u001b[0;31mNameError\u001b[0m                                 Traceback (most recent call last)",
            "\u001b[0;32m<ipython-input-21-73c8a77be632>\u001b[0m in \u001b[0;36m<cell line: 1>\u001b[0;34m()\u001b[0m\n\u001b[0;32m----> 1\u001b[0;31m \u001b[0;32mfor\u001b[0m \u001b[0mu\u001b[0m\u001b[0;34m,\u001b[0m\u001b[0mu_vals\u001b[0m \u001b[0;32min\u001b[0m \u001b[0murls_index\u001b[0m\u001b[0;34m.\u001b[0m\u001b[0mitems\u001b[0m\u001b[0;34m(\u001b[0m\u001b[0;34m)\u001b[0m\u001b[0;34m:\u001b[0m\u001b[0;34m\u001b[0m\u001b[0;34m\u001b[0m\u001b[0m\n\u001b[0m\u001b[1;32m      2\u001b[0m     \u001b[0mprint\u001b[0m\u001b[0;34m(\u001b[0m\u001b[0;34mf\"Indexing url={u}\"\u001b[0m\u001b[0;34m)\u001b[0m\u001b[0;34m\u001b[0m\u001b[0;34m\u001b[0m\u001b[0m\n\u001b[1;32m      3\u001b[0m     \u001b[0;31m# soup = fetch_page(u)\u001b[0m\u001b[0;34m\u001b[0m\u001b[0;34m\u001b[0m\u001b[0m\n\u001b[1;32m      4\u001b[0m     \u001b[0;31m# if soup is None:\u001b[0m\u001b[0;34m\u001b[0m\u001b[0;34m\u001b[0m\u001b[0m\n\u001b[1;32m      5\u001b[0m     \u001b[0;31m#     continue\u001b[0m\u001b[0;34m\u001b[0m\u001b[0;34m\u001b[0m\u001b[0m\n",
            "\u001b[0;31mNameError\u001b[0m: name 'urls_index' is not defined"
          ]
        }
      ]
    },
    {
      "cell_type": "code",
      "source": [
        "for ind,vals in index_from_DB.items():\n",
        "  urls_str = '\\n\\t\\t'.join(vals['urls'])\n",
        "  print(f\"Index: '{ind}'\\n\\tTotal Count: {vals['cntr']}\\n\\tUrls: {urls_str}\")"
      ],
      "metadata": {
        "colab": {
          "base_uri": "https://localhost:8080/"
        },
        "id": "kIrqYXzyQ34K",
        "outputId": "818a911c-b265-43ab-e05b-436689a7de71"
      },
      "execution_count": null,
      "outputs": [
        {
          "output_type": "stream",
          "name": "stdout",
          "text": [
            "Index: 'ai'\n",
            "\tTotal Count: 0\n",
            "\tUrls: \n",
            "Index: 'chatbot'\n",
            "\tTotal Count: 0\n",
            "\tUrls: \n",
            "Index: 'engin'\n",
            "\tTotal Count: 0\n",
            "\tUrls: \n",
            "Index: 'hybrid'\n",
            "\tTotal Count: 0\n",
            "\tUrls: \n",
            "Index: 'iaa'\n",
            "\tTotal Count: 0\n",
            "\tUrls: \n",
            "Index: 'paa'\n",
            "\tTotal Count: 0\n",
            "\tUrls: \n",
            "Index: 'privat'\n",
            "\tTotal Count: 0\n",
            "\tUrls: \n",
            "Index: 'public'\n",
            "\tTotal Count: 0\n",
            "\tUrls: \n",
            "Index: 'saa'\n",
            "\tTotal Count: 0\n",
            "\tUrls: \n",
            "Index: 'studi'\n",
            "\tTotal Count: 0\n",
            "\tUrls: \n"
          ]
        }
      ]
    },
    {
      "cell_type": "code",
      "source": [
        "update_index_in_db(index_from_DB)"
      ],
      "metadata": {
        "colab": {
          "base_uri": "https://localhost:8080/"
        },
        "id": "KFH5prCFQ-mH",
        "outputId": "384927fc-b21a-45b5-9771-a552fa0ea9af"
      },
      "execution_count": null,
      "outputs": [
        {
          "output_type": "stream",
          "name": "stdout",
          "text": [
            "update made:\n",
            "\tIndex=ai\n",
            "tValues={'cntr': 0, 'original_index': 'AI', 'urls': []}\n",
            "update made:\n",
            "\tIndex=chatbot\n",
            "tValues={'cntr': 0, 'original_index': 'chatbot', 'urls': []}\n",
            "update made:\n",
            "\tIndex=engin\n",
            "tValues={'cntr': 0, 'original_index': 'engine', 'urls': []}\n",
            "update made:\n",
            "\tIndex=hybrid\n",
            "tValues={'cntr': 0, 'original_index': 'hybrid', 'urls': []}\n",
            "update made:\n",
            "\tIndex=iaa\n",
            "tValues={'cntr': 0, 'original_index': 'IAAS', 'urls': []}\n",
            "update made:\n",
            "\tIndex=paa\n",
            "tValues={'cntr': 0, 'original_index': 'PAAS', 'urls': []}\n",
            "update made:\n",
            "\tIndex=privat\n",
            "tValues={'cntr': 0, 'original_index': 'private', 'urls': []}\n",
            "update made:\n",
            "\tIndex=public\n",
            "tValues={'cntr': 0, 'original_index': 'public', 'urls': []}\n",
            "update made:\n",
            "\tIndex=saa\n",
            "tValues={'cntr': 0, 'original_index': 'SAAS', 'urls': []}\n",
            "update made:\n",
            "\tIndex=studi\n",
            "tValues={'cntr': 0, 'original_index': 'study', 'urls': []}\n",
            "Updated given index in DB\n"
          ]
        }
      ]
    },
    {
      "cell_type": "code",
      "source": [
        "import pandas as pd\n",
        "import matplotlib.pyplot as plt\n",
        "import seaborn as sns\n",
        "\n",
        "ind_names = [ind[\"original_index\"] for ind in index_from_DB.values()]\n",
        "ind_cntrs = [ind[\"cntr\"] for ind in index_from_DB.values()]\n",
        "ind_data = pd.DataFrame({\n",
        "    \"Index\":ind_names,\n",
        "    \"Appearances\":ind_cntrs\n",
        "})\n",
        "\n",
        "plt.clf()  # Clear the current figure\n",
        "plt.figure(figsize=(10, 8))  # Increased figure size to accommodate labels\n",
        "plt.title(\"Appearance of indexes in IBM:\")\n",
        "\n",
        "ax = sns.barplot(x=\"Index\", y=\"Appearances\",\n",
        "                 errwidth=0, data=ind_data)\n",
        "for i in ax.containers:\n",
        "  ax.bar_label(i,)\n",
        "plt.xticks(rotation=45)\n",
        "plt.show()  # Add this to display the plot\n",
        "plt.close()  # Close the figure to free memory"
      ],
      "metadata": {
        "colab": {
          "base_uri": "https://localhost:8080/",
          "height": 697
        },
        "id": "WwmtLa5BQ7au",
        "outputId": "dcbb249b-962d-47a0-db09-17fb7058baf4"
      },
      "execution_count": null,
      "outputs": [
        {
          "output_type": "stream",
          "name": "stderr",
          "text": [
            "<ipython-input-25-d1456ca61007>:16: FutureWarning: \n",
            "\n",
            "The `errwidth` parameter is deprecated. And will be removed in v0.15.0. Pass `err_kws={'linewidth': 0}` instead.\n",
            "\n",
            "  ax = sns.barplot(x=\"Index\", y=\"Appearances\",\n"
          ]
        },
        {
          "output_type": "display_data",
          "data": {
            "text/plain": [
              "<Figure size 640x480 with 0 Axes>"
            ]
          },
          "metadata": {}
        },
        {
          "output_type": "display_data",
          "data": {
            "text/plain": [
              "<Figure size 1000x800 with 1 Axes>"
            ],
            "image/png": "[encoded data removed]"
          },
          "metadata": {}
        }
      ]
    },
    {
      "cell_type": "code",
      "source": [
        "searchHistory = []"
      ],
      "metadata": {
        "id": "AD53WLiuJ79J"
      },
      "execution_count": null,
      "outputs": []
    },
    {
      "cell_type": "markdown",
      "source": [
        "TODO search engine by text field, you can use the code from exercise 6, save the search history"
      ],
      "metadata": {
        "id": "FsE469x9Jav4"
      }
    },
    {
      "cell_type": "markdown",
      "source": [
        "TODO 3 tabs: search results, graph that shows the rank of each page, graph for the website cover of the query keywords"
      ],
      "metadata": {
        "id": "kVCt2RXLJjVw"
      }
    },
    {
      "cell_type": "markdown",
      "source": [
        "TODO add the group logo from drive"
      ],
      "metadata": {
        "id": "zpBcuOt7KCd8"
      }
    },
    {
      "cell_type": "markdown",
      "source": [
        "TODO enable shering, make the link public"
      ],
      "metadata": {
        "id": "SUGPxqGCKcqJ"
      }
    }
  ]
}