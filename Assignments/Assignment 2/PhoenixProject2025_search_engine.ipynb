{
  "nbformat": 4,
  "nbformat_minor": 0,
  "metadata": {
    "colab": {
      "provenance": []
    },
    "kernelspec": {
      "name": "python3",
      "display_name": "Python 3"
    },
    "language_info": {
      "name": "python"
    }
  },
  "cells": [
    {
      "cell_type": "markdown",
      "source": [
        "github link: https://github.com/ShlomiFridman/PhoenixProject2025"
      ],
      "metadata": {
        "id": "8GkvwvPQRDnq"
      }
    },
    {
      "cell_type": "code",
      "execution_count": 2,
      "metadata": {
        "id": "xkC_PXGpO64W",
        "colab": {
          "base_uri": "https://localhost:8080/"
        },
        "outputId": "2f4c3ab7-5614-44df-bbb6-08b036ef57a8"
      },
      "outputs": [
        {
          "output_type": "stream",
          "name": "stdout",
          "text": [
            "Requirement already satisfied: requests in /usr/local/lib/python3.10/dist-packages (2.32.3)\n",
            "Requirement already satisfied: beautifulsoup4 in /usr/local/lib/python3.10/dist-packages (4.12.3)\n",
            "Requirement already satisfied: charset-normalizer<4,>=2 in /usr/local/lib/python3.10/dist-packages (from requests) (3.4.0)\n",
            "Requirement already satisfied: idna<4,>=2.5 in /usr/local/lib/python3.10/dist-packages (from requests) (3.10)\n",
            "Requirement already satisfied: urllib3<3,>=1.21.1 in /usr/local/lib/python3.10/dist-packages (from requests) (2.2.3)\n",
            "Requirement already satisfied: certifi>=2017.4.17 in /usr/local/lib/python3.10/dist-packages (from requests) (2024.12.14)\n",
            "Requirement already satisfied: soupsieve>1.2 in /usr/local/lib/python3.10/dist-packages (from beautifulsoup4) (2.6)\n",
            "Requirement already satisfied: requests in /usr/local/lib/python3.10/dist-packages (2.32.3)\n",
            "Requirement already satisfied: beautifulsoup4 in /usr/local/lib/python3.10/dist-packages (4.12.3)\n",
            "Requirement already satisfied: nltk in /usr/local/lib/python3.10/dist-packages (3.9.1)\n",
            "Requirement already satisfied: charset-normalizer<4,>=2 in /usr/local/lib/python3.10/dist-packages (from requests) (3.4.0)\n",
            "Requirement already satisfied: idna<4,>=2.5 in /usr/local/lib/python3.10/dist-packages (from requests) (3.10)\n",
            "Requirement already satisfied: urllib3<3,>=1.21.1 in /usr/local/lib/python3.10/dist-packages (from requests) (2.2.3)\n",
            "Requirement already satisfied: certifi>=2017.4.17 in /usr/local/lib/python3.10/dist-packages (from requests) (2024.12.14)\n",
            "Requirement already satisfied: soupsieve>1.2 in /usr/local/lib/python3.10/dist-packages (from beautifulsoup4) (2.6)\n",
            "Requirement already satisfied: click in /usr/local/lib/python3.10/dist-packages (from nltk) (8.1.7)\n",
            "Requirement already satisfied: joblib in /usr/local/lib/python3.10/dist-packages (from nltk) (1.4.2)\n",
            "Requirement already satisfied: regex>=2021.8.3 in /usr/local/lib/python3.10/dist-packages (from nltk) (2024.11.6)\n",
            "Requirement already satisfied: tqdm in /usr/local/lib/python3.10/dist-packages (from nltk) (4.67.1)\n",
            "Collecting firebase\n",
            "  Downloading firebase-4.0.1-py3-none-any.whl.metadata (6.5 kB)\n",
            "Requirement already satisfied: requests in /usr/local/lib/python3.10/dist-packages (from firebase) (2.32.3)\n",
            "Requirement already satisfied: charset-normalizer<4,>=2 in /usr/local/lib/python3.10/dist-packages (from requests->firebase) (3.4.0)\n",
            "Requirement already satisfied: idna<4,>=2.5 in /usr/local/lib/python3.10/dist-packages (from requests->firebase) (3.10)\n",
            "Requirement already satisfied: urllib3<3,>=1.21.1 in /usr/local/lib/python3.10/dist-packages (from requests->firebase) (2.2.3)\n",
            "Requirement already satisfied: certifi>=2017.4.17 in /usr/local/lib/python3.10/dist-packages (from requests->firebase) (2024.12.14)\n",
            "Downloading firebase-4.0.1-py3-none-any.whl (12 kB)\n",
            "Installing collected packages: firebase\n",
            "Successfully installed firebase-4.0.1\n"
          ]
        }
      ],
      "source": [
        "!pip install requests beautifulsoup4\n",
        "!pip install requests beautifulsoup4 nltk\n",
        "!pip install firebase"
      ]
    },
    {
      "cell_type": "code",
      "source": [
        "import requests\n",
        "import time\n",
        "from urllib.parse import urljoin, urlparse\n",
        "from bs4 import BeautifulSoup\n",
        "from urllib.robotparser import RobotFileParser\n",
        "from nltk.stem import PorterStemmer\n",
        "import re\n",
        "from firebase import firebase"
      ],
      "metadata": {
        "id": "Q-Dcy13DQEaH"
      },
      "execution_count": 3,
      "outputs": []
    },
    {
      "cell_type": "markdown",
      "source": [
        "Utils functions"
      ],
      "metadata": {
        "id": "67nX-B8nV2MO"
      }
    },
    {
      "cell_type": "code",
      "source": [
        "def index_words(soup):\n",
        "    index_res = {}\n",
        "    words = re.findall(r'\\w+', soup.get_text())\n",
        "\n",
        "    for word in words:\n",
        "        word = word.lower()\n",
        "\n",
        "        if word in index_res:\n",
        "            index_res[word] += 1\n",
        "        else:\n",
        "            index_res[word] = 1\n",
        "\n",
        "    return index_res\n",
        "\n",
        "def remove_stop_words(p_index):\n",
        "    stop_words = {'a', 'an', 'the', 'and', 'or', 'in', 'on', 'at', 'to'}\n",
        "\n",
        "    for stop_word in stop_words:\n",
        "        if stop_word in p_index:\n",
        "            del p_index[stop_word]\n",
        "\n",
        "    return p_index\n",
        "\n",
        "def apply_stemming(p_index):\n",
        "    stemmer = PorterStemmer()\n",
        "    stemmed_index = {}\n",
        "\n",
        "    for word, count in p_index.items():\n",
        "        stemmed_word = stemmer.stem(word)\n",
        "\n",
        "        if stemmed_word in stemmed_index:\n",
        "            stemmed_index[stemmed_word] += count\n",
        "        else:\n",
        "            stemmed_index[stemmed_word] = count\n",
        "\n",
        "    return stemmed_index\n"
      ],
      "metadata": {
        "id": "UE9GtuIyV11Y"
      },
      "execution_count": 4,
      "outputs": []
    },
    {
      "cell_type": "markdown",
      "source": [
        "Firebase service"
      ],
      "metadata": {
        "id": "dE6sX52BRZ5Z"
      }
    },
    {
      "cell_type": "code",
      "source": [
        "class FirebaseService:\n",
        "\n",
        "  def __init__(self, db_url = 'https://phoenixhw2-default-rtdb.europe-west1.firebasedatabase.app/'):\n",
        "    self.FBconn = firebase.FirebaseApplication(db_url,None)\n",
        "\n",
        "  def get_index_from_DB(self):\n",
        "    return self.FBconn.get('/Index/', None)\n",
        "\n",
        "  def update_index_in_db(self, index_p):\n",
        "    for k,v in index_p.items():\n",
        "      self.FBconn.put(\"/Index/\", k, v)\n",
        "      print(f\"update made for index={k} ({v['term']})\")\n",
        "    print(\"Updated given index in DB\")"
      ],
      "metadata": {
        "id": "iQFrRnWZbPqH"
      },
      "execution_count": 5,
      "outputs": []
    },
    {
      "cell_type": "markdown",
      "source": [
        "index service for maintain"
      ],
      "metadata": {
        "id": "A-PC6QK9RHqd"
      }
    },
    {
      "cell_type": "code",
      "source": [
        "class IndexService:\n",
        "\n",
        "  def __init__(self, index):\n",
        "    self.rev_index = {}\n",
        "    self.urls_index = {}\n",
        "    stemmer = PorterStemmer()\n",
        "    for w in index:\n",
        "      self.rev_index[stemmer.stem(w)] = {\"term\":w, \"DocIDs\": [], \"DocIDs_cntrs\": []}\n",
        "\n",
        "  def process_soup(self, url, soup):\n",
        "    if not soup:\n",
        "      print(\"empty soup\")\n",
        "      return\n",
        "    u_index = index_words(soup)\n",
        "    u_index = remove_stop_words(u_index)\n",
        "    u_index = apply_stemming(u_index)\n",
        "    self.urls_index[url] = u_index\n",
        "\n",
        "    for ind, ind_val in self.rev_index.items():\n",
        "      if ind not in u_index:\n",
        "        continue\n",
        "      elif url in ind_val['DocIDs']:\n",
        "        continue\n",
        "      ind_val['DocIDs'].append(url)\n",
        "      ind_val['DocIDs_cntrs'].append(u_index[ind])\n",
        "\n",
        "    return u_index\n",
        "\n",
        "  def get_reverse_index(self):\n",
        "    return self.rev_index\n",
        "\n",
        "  def get_url_index(self, url):\n",
        "    return self.urls_index.get(url,{})\n",
        "\n",
        "  def set_index(self, newRevIndex):\n",
        "    self.rev_index = newRevIndex\n",
        "    self.urls_index = {}\n",
        "\n",
        "    for ind, vals in self.rev_index.items():\n",
        "      urls = vals['DocIDs']\n",
        "      cntrs = vals['DocIDs_cntrs']\n",
        "      for j in range(len(vals['DocIDs'])):\n",
        "        if urls[j] not in self.urls_index:\n",
        "          self.urls_index[urls[j]] = {}\n",
        "        self.urls_index[urls[j]][ind] = cntrs[j]\n",
        "    print(\"index updated\")\n",
        "\n",
        "  def index_toString(self):\n",
        "    str = ''\n",
        "    for ind,vals in self.rev_index.items():\n",
        "      str += f\"Index {ind}\"\n",
        "      str += f\"\\tTerm={vals['term']}\"\n",
        "      str += \"\\tDocIDs=\"\n",
        "      for j in range(len(vals['DocIDs'])):\n",
        "        str += f\"\\t\\tURL No.{j}: {vals['DocIDs'][j]} - {vals['DocIDs_cntrs'][j]} times\"\n",
        "    return str\n"
      ],
      "metadata": {
        "id": "MFdi6YSbRVtD"
      },
      "execution_count": 40,
      "outputs": []
    },
    {
      "cell_type": "markdown",
      "source": [
        "Crawling service"
      ],
      "metadata": {
        "id": "xOZCfKrsRQyS"
      }
    },
    {
      "cell_type": "code",
      "source": [
        "class CrawlerService:\n",
        "\n",
        "  def __init__(self, indexService):\n",
        "    self.indexService = indexService\n",
        "    self.crawled_urls = set()\n",
        "    self.crawled_count = 0\n",
        "    self.robot = None\n",
        "\n",
        "    # Function to crawl a website and fetch n pages\n",
        "  def crawl_website(self, base_url, max_pages):\n",
        "      rp = self.__check_robot(base_url)  # Check the robots.txt file\n",
        "      urls_to_crawl = [base_url]  # Initialize the queue with the base URL\n",
        "      current_crawled_urls = set()\n",
        "      ignore_urls = [\"form\", \"mp3\", \"mp4\", \"downloads\"]\n",
        "\n",
        "      while urls_to_crawl and len(current_crawled_urls) < max_pages:\n",
        "          current_url = urls_to_crawl.pop(0)\n",
        "\n",
        "          if current_url in self.crawled_urls:\n",
        "              continue  # Skip already crawled URLs\n",
        "\n",
        "          print(f\"Crawling {self.crawled_count+1}: {current_url}\")\n",
        "          page_content = self.__fetch_page_crawler(current_url, rp)\n",
        "\n",
        "          if page_content:\n",
        "              self.crawled_urls.add(current_url)\n",
        "              current_crawled_urls.add(current_url)\n",
        "              self.crawled_count += 1\n",
        "\n",
        "              # Extract and queue new links to crawl\n",
        "              new_links = self.__extract_links(page_content, base_url)\n",
        "              for link in new_links:\n",
        "                  cond1 = any(bad_url in link for bad_url in ignore_urls)\n",
        "                  cond2 = any(u for u in self.crawled_urls if (f\"{u}#\" in link))\n",
        "                  cond = cond1 or cond2\n",
        "                  if link not in self.crawled_urls and link not in urls_to_crawl and not cond:\n",
        "                      urls_to_crawl.append(link)\n",
        "\n",
        "              soup = BeautifulSoup(page_content, 'html.parser')\n",
        "              self.indexService.process_soup(current_url, soup)\n",
        "              # Delay between requests to avoid overwhelming the server\n",
        "              time.sleep(2)  # Sleep for 2 seconds between requests (politeness)\n",
        "\n",
        "      print(f\"\\nCrawled {len(current_crawled_urls)} pages.\")\n",
        "      return current_crawled_urls\n",
        "\n",
        "  def get_crawled_urls(self):\n",
        "    return self.crawled_urls\n",
        "\n",
        "  # Function to fetch and parse the robots.txt file to check permissions\n",
        "  def __check_robot(self, url):\n",
        "      robot_url = urljoin(url, '/robots.txt')\n",
        "      rp = RobotFileParser()\n",
        "      rp.set_url(robot_url)\n",
        "      # Fetch and parse robots.txt file\n",
        "      rp.read()\n",
        "      if rp:\n",
        "        self.robot = rp\n",
        "      return rp if rp else self.robot\n",
        "\n",
        "  # Function to fetch and parse a page\n",
        "  def __fetch_page_crawler(self, url, rp):\n",
        "      # Check if the URL is allowed to be crawled according to robots.txt\n",
        "      if not rp.can_fetch('*', url):  # '*' means all user agents\n",
        "          print(f\"Blocked by robots.txt: {url}\")\n",
        "          return None\n",
        "\n",
        "      try:\n",
        "          response = requests.get(url, timeout=5)\n",
        "          response.raise_for_status()  # Will raise an exception for 4xx or 5xx responses\n",
        "          return response.text\n",
        "      except requests.exceptions.RequestException as e:\n",
        "          print(f\"Error fetching {url}: {e}\")\n",
        "          return None\n",
        "\n",
        "  # Function to extract internal links from a page\n",
        "  def __extract_links(self, page_content, base_url):\n",
        "      soup = BeautifulSoup(page_content, 'html.parser')\n",
        "      links = set()\n",
        "\n",
        "      # Find all anchor tags and extract the href attribute\n",
        "      # TODO need to add all links that are in tags with property cta-type=\"local\n",
        "      for anchor in soup.find_all('a', href=True):\n",
        "          href = anchor['href']\n",
        "\n",
        "          # Resolve relative URLs to absolute URLs\n",
        "          full_url = urljoin(base_url, href)\n",
        "\n",
        "          # Only add links that are within the same domain (ibm.com)\n",
        "          if urlparse(full_url).netloc == urlparse(base_url).netloc:\n",
        "              links.add(full_url)\n",
        "      for tag in soup.find_all(attrs={'cta-type': 'local'}, href=True):\n",
        "        href = tag['href']\n",
        "        # Resolve relative URLs to absolute URLs\n",
        "        full_url = urljoin(base_url, href)\n",
        "\n",
        "        # Only add links that are within the same domain\n",
        "        if urlparse(full_url).netloc == urlparse(base_url).netloc:\n",
        "            links.add(full_url)\n",
        "\n",
        "      return links"
      ],
      "metadata": {
        "id": "40IJ0awQS-JI"
      },
      "execution_count": 7,
      "outputs": []
    },
    {
      "cell_type": "markdown",
      "source": [
        "The index we defined"
      ],
      "metadata": {
        "id": "m3mJsgmSRyZq"
      }
    },
    {
      "cell_type": "code",
      "source": [
        "init_index = [\n",
        "    'SAAS',\n",
        "    'PAAS',\n",
        "    'IAAS',\n",
        "    'Private',\n",
        "    'Public',\n",
        "    'Hybrid',\n",
        "    'Service',\n",
        "    'Platform',\n",
        "    'Infrastructure',\n",
        "    'Study',\n",
        "    'Case',\n",
        "    'Chatbot',\n",
        "    'Engine',\n",
        "    'Cloud',\n",
        "    'Monitor',\n",
        "    'Data',\n",
        "    'Mainframe',\n",
        "    'Performance',\n",
        "    'Security',\n",
        "    'SLA',\n",
        "    'KPI',\n",
        "    'SOA',\n",
        "    'Information',\n",
        "    'Kafka',\n",
        "    'SQL',\n",
        "    'Technology',\n",
        "    'Database',\n",
        "    'Docker',\n",
        "    'Kubernetes',\n",
        "    'RabbitMQ',\n",
        "    'IBM',\n",
        "    'Google',\n",
        "    'Amazon',\n",
        "    'AI',\n",
        "]"
      ],
      "metadata": {
        "id": "lrS3TIYxQarT"
      },
      "execution_count": 42,
      "outputs": []
    },
    {
      "cell_type": "code",
      "source": [
        "indexService = IndexService(init_index)"
      ],
      "metadata": {
        "id": "hwWKuSI1gtbF"
      },
      "execution_count": 43,
      "outputs": []
    },
    {
      "cell_type": "code",
      "source": [
        "crawlerService = CrawlerService(indexService)"
      ],
      "metadata": {
        "id": "kaOt9iX-nBhZ"
      },
      "execution_count": 44,
      "outputs": []
    },
    {
      "cell_type": "code",
      "source": [
        "firebaseService = FirebaseService()"
      ],
      "metadata": {
        "id": "Po7zHd1HnC8I"
      },
      "execution_count": 45,
      "outputs": []
    },
    {
      "cell_type": "code",
      "source": [
        "# indexService.set_index(firebaseService.get_index_from_DB())\n",
        "# print(\"Index from firebase:\")\n",
        "# indexService.print_index()"
      ],
      "metadata": {
        "id": "HWn4zhL_QOq7"
      },
      "execution_count": null,
      "outputs": []
    },
    {
      "cell_type": "markdown",
      "source": [
        "Processing the index and saving it in DB"
      ],
      "metadata": {
        "id": "iR-a2Dc3R2Xw"
      }
    },
    {
      "cell_type": "code",
      "source": [
        "firebaseService.update_index_in_db(indexService.get_reverse_index())"
      ],
      "metadata": {
        "colab": {
          "base_uri": "https://localhost:8080/"
        },
        "id": "yoMFSv5cQX--",
        "outputId": "4d8b8a04-f406-4a3e-f1cb-c7242fac9f19"
      },
      "execution_count": 46,
      "outputs": [
        {
          "output_type": "stream",
          "name": "stdout",
          "text": [
            "update made for index=saa (SAAS)\n",
            "update made for index=paa (PAAS)\n",
            "update made for index=iaa (IAAS)\n",
            "update made for index=privat (Private)\n",
            "update made for index=public (Public)\n",
            "update made for index=hybrid (Hybrid)\n",
            "update made for index=servic (Service)\n",
            "update made for index=platform (Platform)\n",
            "update made for index=infrastructur (Infrastructure)\n",
            "update made for index=studi (Study)\n",
            "update made for index=case (Case)\n",
            "update made for index=chatbot (Chatbot)\n",
            "update made for index=engin (Engine)\n",
            "update made for index=cloud (Cloud)\n",
            "update made for index=monitor (Monitor)\n",
            "update made for index=data (Data)\n",
            "update made for index=mainfram (Mainframe)\n",
            "update made for index=perform (Performance)\n",
            "update made for index=secur (Security)\n",
            "update made for index=sla (SLA)\n",
            "update made for index=kpi (KPI)\n",
            "update made for index=soa (SOA)\n",
            "update made for index=inform (Information)\n",
            "update made for index=kafka (Kafka)\n",
            "update made for index=sql (SQL)\n",
            "update made for index=technolog (Technology)\n",
            "update made for index=databas (Database)\n",
            "update made for index=docker (Docker)\n",
            "update made for index=kubernet (Kubernetes)\n",
            "update made for index=rabbitmq (RabbitMQ)\n",
            "update made for index=ibm (IBM)\n",
            "update made for index=googl (Google)\n",
            "update made for index=amazon (Amazon)\n",
            "update made for index=ai (AI)\n",
            "Updated given index in DB\n"
          ]
        }
      ]
    },
    {
      "cell_type": "code",
      "source": [
        "\n",
        "# To limit the number of pages to crawl\n",
        "MAX_PAGES = 100\n",
        "crawlerService.crawl_website('https://www.ibm.com/us-en', MAX_PAGES)\n",
        "crawlerService.crawl_website('https://www.ibm.com/topics', MAX_PAGES)"
      ],
      "metadata": {
        "colab": {
          "base_uri": "https://localhost:8080/"
        },
        "id": "NRGaJtakQvim",
        "outputId": "4d817f78-284c-40e8-dddc-9ff140dac25d"
      },
      "execution_count": 47,
      "outputs": [
        {
          "output_type": "stream",
          "name": "stdout",
          "text": [
            "Crawling 1: https://www.ibm.com/us-en\n",
            "Crawling 2: https://www.ibm.com/impact/ai-ethics?lnk=bus\n",
            "Crawling 3: https://www.ibm.com/servers?lnk=ProdC\n",
            "Crawling 4: https://www.ibm.com/thought-leadership/institute-business-value/report/ceo-generative-ai?lnk=bus\n",
            "Crawling 5: https://www.ibm.com/think/reports/ai-in-action?lnk=bus\n",
            "Crawling 6: https://www.ibm.com/think/insights/ai-ethics-and-governance-in-2025?lnk=hpUSls2\n",
            "Crawling 7: https://www.ibm.com/products/watsonx-code-assistant?lnk=dev\n",
            "Crawling 8: https://www.ibm.com/about?lnk=inside\n",
            "Crawling 9: https://www.ibm.com/impact?lnk=inside\n",
            "Crawling 10: https://www.ibm.com/automation?lnk=ProdC\n",
            "Crawling 11: https://www.ibm.com/history?lnk=inside\n",
            "Crawling 12: https://www.ibm.com/analytics?lnk=ProdC\n",
            "Crawling 13: https://www.ibm.com/artificial-intelligence?lnk=ProdC\n",
            "Crawling 14: https://www.ibm.com/new/announcements/scale-ai-with-ibm-s-forward-thinking-data-strategy?lnk=hpUSrc3\n",
            "Crawling 15: https://www.ibm.com/impact/be-equal?lnk=inside\n",
            "Crawling 16: https://www.ibm.com/hybrid-cloud?lnk=ProdC\n",
            "Crawling 17: https://www.ibm.com/consulting?lnk=ProdC\n",
            "Crawling 18: https://www.ibm.com/thought-leadership/institute-business-value/en-us/report/business-trends-2025?lnk=hpUSls1\n",
            "Error fetching https://www.ibm.com/thought-leadership/institute-business-value/en-us/report/business-trends-2025?lnk=hpUSls1: HTTPSConnectionPool(host='www.ibm.com', port=443): Read timed out. (read timeout=5)\n",
            "Crawling 18: https://www.ibm.com/security?lnk=ProdC\n",
            "Crawling 19: https://www.ibm.com/quantum?lnk=inside\n",
            "Crawling 20: https://www.ibm.com/granite?lnk=ProdC\n",
            "Crawling 21: https://www.ibm.com/watsonx/developer/?lnk=dev\n",
            "Crawling 22: https://www.ibm.com/products/offers-and-discounts?lnk=hpUSbt1\n",
            "Crawling 23: https://www.ibm.com/database?lnk=ProdC\n",
            "Crawling 24: https://www.ibm.com/careers?lnk=next\n",
            "Crawling 25: https://www.ibm.com/products/watsonx-orchestrate/ai-agent-for-hr?lnk=hpUSrc4\n",
            "Crawling 26: https://www.ibm.com/granite?lnk=dev\n",
            "Crawling 27: https://www.ibm.com/policy/why-we-must-protect-an-open-innovation-ecosystem-for-ai/\n",
            "Crawling 28: https://www.ibm.com/think/insights/expanding-on-ethical-considerations-of-foundation-models\n",
            "Crawling 29: https://www.ibm.com/products/watsonx-governance\n",
            "Crawling 30: https://www.ibm.com/think/insights/enhanced-data-provenance-transparency\n",
            "Crawling 31: https://www.ibm.com/policy/ai-precision-regulation/\n",
            "Crawling 32: https://www.ibm.com/thought-leadership/institute-business-value/en-us/report/ai-governance\n",
            "Crawling 33: https://www.ibm.com/policy/trust-transparency-new/\n",
            "Crawling 34: https://www.ibm.com/think/insights/balancing-innovation-and-trust\n",
            "Crawling 35: https://www.ibm.com/topics/ai-ethics\n",
            "Crawling 36: https://www.ibm.com/policy/eu-ai-act-compliance-steps/\n",
            "Crawling 37: https://www.ibm.com/case-studies/ibm-oprt-pims\n",
            "Crawling 38: https://www.ibm.com/policy/mitigating-ai-bias\n",
            "Crawling 39: https://www.ibm.com/consulting/ai-governance\n",
            "Crawling 40: https://www.ibm.com/think/insights/ai-best-practices\n",
            "Crawling 41: https://www.ibm.com/impact/2023-ibm-impact-report\n",
            "Crawling 42: https://www.ibm.com/think/insights/Reflecting-on-IBM-AI-Ethics-Board\n",
            "Crawling 43: https://www.ibm.com/think/insights/fostering-a-more-ethical-future-by-leveraging-technology\n",
            "Crawling 44: https://www.ibm.com/think/insights/caio-first-days-guidance\n",
            "Crawling 45: https://www.ibm.com/policy/precision-regulation-for-data-driven-business-models/\n",
            "Crawling 46: https://www.ibm.com/thought-leadership/institute-business-value/report/ceo-generative-ai/responsible-ai-ethics\n",
            "Crawling 47: https://www.ibm.com/policy/promoting-the-responsible-advancement-of-neurotechnology/\n",
            "Crawling 48: https://www.ibm.com/products/power-e1050\n",
            "Crawling 49: https://www.ibm.com/products/environmental-intelligence-suite\n",
            "Crawling 50: https://www.ibm.com/products/virtual-servers\n",
            "Crawling 51: https://www.ibm.com/products/power-e1080\n",
            "Crawling 52: https://www.ibm.com/topics/virtual-server\n",
            "Crawling 53: https://www.ibm.com/topics/data-storage\n",
            "Crawling 54: https://www.ibm.com/case-studies/university-of-fukui-hospital\n",
            "Crawling 55: https://www.ibm.com/products/linuxone-4\n",
            "Crawling 56: https://www.ibm.com/topics/mainframe\n",
            "Crawling 57: https://www.ibm.com/case-studies/phoenix-systems\n",
            "Crawling 58: https://www.ibm.com/case-studies/compuware-systems-hardware-devops-z-mainframe\n",
            "Crawling 59: https://www.ibm.com/products/power-s1012\n",
            "Crawling 60: https://www.ibm.com/linuxone\n",
            "Crawling 61: https://www.ibm.com/products/bare-metal-servers\n",
            "Crawling 62: https://www.ibm.com/products/power-s1014\n",
            "Crawling 63: https://www.ibm.com/products/power-virtual-server\n",
            "Crawling 64: https://www.ibm.com/products/power-s1024\n",
            "Crawling 65: https://www.ibm.com/products/power-s1022\n",
            "Crawling 66: https://www.ibm.com/z\n",
            "Crawling 67: https://www.ibm.com/case-studies/bosch\n",
            "Crawling 68: https://www.ibm.com/products/hyper-protect-virtual-servers/cloud\n",
            "Crawling 69: https://www.ibm.com/products/hyper-protect-virtual-servers\n",
            "Crawling 70: https://www.ibm.com/topics/infrastructure\n",
            "Crawling 71: https://www.ibm.com/products/virtual-servers-classic\n",
            "Crawling 72: https://www.ibm.com/products/z16\n",
            "Crawling 73: https://www.ibm.com/power\n",
            "Crawling 74: https://www.ibm.com/thought-leadership/institute-business-value/en-us/report/hybrid-by-design\n",
            "Crawling 75: https://www.ibm.com/thought-leadership/institute-business-value/en-us/report/ceo-generative-ai/ceo-ai-sustainability\n",
            "Crawling 76: https://www.ibm.com/thought-leadership/institute-business-value/en-us/report/ceo-generative-ai-book\n",
            "Crawling 77: https://www.ibm.com/thought-leadership/institute-business-value/en-us/about\n",
            "Crawling 78: https://www.ibm.com/thought-leadership/institute-business-value/en-us/report/ceo-generative-ai/ceo-ai-cost-of-compute\n",
            "Crawling 79: https://www.ibm.com/thought-leadership/institute-business-value/en-us/report/ceo-generative-ai/ceo-ai-procurement\n",
            "Crawling 80: https://www.ibm.com/thought-leadership/institute-business-value/en-us/report/ceo-generative-ai/ceo-ai-enterprise-operating-model\n",
            "Crawling 81: https://www.ibm.com/consulting\n",
            "Crawling 82: https://www.ibm.com/privacy/us/en/?lnk=flg-priv-usen\n",
            "Crawling 83: https://www.ibm.com/thought-leadership/institute-business-value/en-us/c-suite-study/cdo\n",
            "Crawling 84: https://www.ibm.com/thought-leadership/institute-business-value/en-us/benchmarking\n",
            "Crawling 85: https://www.ibm.com/thought-leadership/institute-business-value/en-us/report/ceo-generative-ai/responsible-ai-ethics\n",
            "Crawling 86: https://www.ibm.com/thought-leadership/institute-business-value/en-us/report/ceo-generative-ai/employee-customer-experience\n",
            "Crawling 87: https://www.ibm.com/thought-leadership/institute-business-value/en-us/report/ceo-generative-ai/ceo-ai-finance\n",
            "Crawling 88: https://www.ibm.com/thought-leadership/institute-business-value/en-us\n",
            "Crawling 89: https://www.ibm.com/thought-leadership/institute-business-value/en-us/technology/generative-ai\n",
            "Crawling 90: https://www.ibm.com/thought-leadership/institute-business-value/en-us/report/ceo-generative-ai/ceo-ai-model-optimization\n",
            "Crawling 91: https://www.ibm.com/thought-leadership/institute-business-value/en-us/report/ceo-generative-ai/tech-spend\n",
            "Crawling 92: https://www.ibm.com/thought-leadership/institute-business-value/en-us/report/ceo-generative-ai/application-modernization\n",
            "Crawling 93: https://www.ibm.com/thought-leadership/institute-business-value/en-us/report/ceo-generative-ai/ceo-ai-physical-asset-management\n",
            "Crawling 94: https://www.ibm.com/thought-leadership/institute-business-value/en-us/report/ceo-generative-ai/supply-chain\n",
            "Crawling 95: https://www.ibm.com/thought-leadership/institute-business-value/en-us/report/ceo-generative-ai/ceo-ai-open-innovation\n",
            "Error fetching https://www.ibm.com/thought-leadership/institute-business-value/en-us/report/ceo-generative-ai/ceo-ai-open-innovation: HTTPSConnectionPool(host='www.ibm.com', port=443): Read timed out. (read timeout=5)\n",
            "Crawling 95: https://www.ibm.com/thought-leadership/institute-business-value/en-us/report/ceo-generative-ai/talent-skills\n",
            "Crawling 96: https://www.ibm.com/thought-leadership/institute-business-value/en-us/\n",
            "Crawling 97: https://www.ibm.com/thought-leadership/institute-business-value/en-us/c-suite-study\n",
            "Crawling 98: https://www.ibm.com/us-en/\n",
            "Crawling 99: https://www.ibm.com/thought-leadership/institute-business-value/blog/home\n",
            "Crawling 100: https://www.ibm.com/thought-leadership/institute-business-value/en-us/report/ceo-generative-ai/ceo-ai-product-engineering\n",
            "\n",
            "Crawled 100 pages.\n",
            "Crawling 101: https://www.ibm.com/topics\n",
            "Crawling 102: https://www.ibm.com/topics/cybersecurity\n",
            "Crawling 103: https://www.ibm.com/topics/rest-apis\n",
            "Crawling 104: https://www.ibm.com/topics/serverless\n",
            "Crawling 105: https://www.ibm.com/topics/block-storage\n",
            "Crawling 106: https://www.ibm.com/topics/business-intelligence\n",
            "Crawling 107: https://www.ibm.com/topics/kubernetes\n",
            "Crawling 108: https://www.ibm.com/topics/managed-file-transfer\n",
            "Crawling 109: https://www.ibm.com/topics/cloud-computing\n",
            "Crawling 110: https://www.ibm.com/topics/quantum-computing\n",
            "Crawling 111: https://www.ibm.com/topics/sdn\n",
            "Crawling 112: https://www.ibm.com/topics/file-storage\n",
            "Crawling 113: https://www.ibm.com/topics/captcha\n",
            "Crawling 114: https://www.ibm.com/topics/software-testing\n",
            "Crawling 115: https://www.ibm.com/topics/database-schema\n",
            "Crawling 116: https://www.ibm.com/topics/workflow\n",
            "Crawling 117: https://www.ibm.com/topics/malware\n",
            "Crawling 118: https://www.ibm.com/think/podcasts\n",
            "Crawling 119: https://www.ibm.com/topics/deep-learning\n",
            "Crawling 120: https://www.ibm.com/topics/hpc\n",
            "Crawling 121: https://www.ibm.com/topics/it-management\n",
            "Crawling 122: https://www.ibm.com/topics/vector-database\n",
            "Crawling 123: https://www.ibm.com/topics/energy-management\n",
            "Crawling 124: https://www.ibm.com/topics/chatbots\n",
            "Crawling 125: https://www.ibm.com/topics/data-science\n",
            "Crawling 126: https://www.ibm.com/topics/logistic-regression\n",
            "Crawling 127: https://www.ibm.com/topics/api\n",
            "Crawling 128: https://www.ibm.com/topics/mobile-application-development\n",
            "Crawling 129: https://www.ibm.com/topics/saas\n",
            "Crawling 130: https://www.ibm.com/topics/machine-learning\n",
            "Crawling 131: https://www.ibm.com/topics/what-is-a-cmms\n",
            "Crawling 132: https://www.ibm.com/topics/what-is-a-digital-twin\n",
            "Crawling 133: https://www.ibm.com/think/videos\n",
            "Crawling 134: https://www.ibm.com/topics/vpc\n",
            "Crawling 135: https://www.ibm.com/topics/data-mining\n",
            "Crawling 136: https://www.ibm.com/topics/tcfd\n",
            "Crawling 137: https://www.ibm.com/topics/ddos\n",
            "Crawling 138: https://www.ibm.com/topics/site-reliability-engineering\n",
            "Crawling 139: https://www.ibm.com/topics/security-operations-center\n",
            "Crawling 140: https://www.ibm.com/topics/devops\n",
            "Crawling 141: https://www.ibm.com/topics/phishing\n",
            "Crawling 142: https://www.ibm.com/topics/cloud-security\n",
            "Crawling 143: https://www.ibm.com/topics/what-is-preventive-maintenance\n",
            "Crawling 144: https://www.ibm.com/topics/microservices\n",
            "Crawling 145: https://www.ibm.com/topics/virtualization\n",
            "Crawling 146: https://www.ibm.com/topics/software-development\n",
            "Crawling 147: https://www.ibm.com/topics/devsecops\n",
            "Crawling 148: https://www.ibm.com/topics/rpa\n",
            "Crawling 149: https://www.ibm.com/topics/cap-theorem\n",
            "Crawling 150: https://www.ibm.com/topics/knn\n",
            "Crawling 151: https://www.ibm.com/topics/middleware\n",
            "Crawling 152: https://www.ibm.com/topics/natural-language-processing\n",
            "Crawling 153: https://www.ibm.com/topics/monte-carlo-simulation\n",
            "Crawling 154: https://www.ibm.com/topics/order-management\n",
            "Crawling 155: https://www.ibm.com/topics/network-operations-center\n",
            "Crawling 156: https://www.ibm.com/topics/neural-networks\n",
            "Crawling 157: https://www.ibm.com/topics/load-balancing\n",
            "Crawling 158: https://www.ibm.com/topics/siem\n",
            "Crawling 159: https://www.ibm.com/topics/nosql-databases\n",
            "Crawling 160: https://www.ibm.com/topics/three-tier-architecture\n",
            "Crawling 161: https://www.ibm.com/topics/linear-regression\n",
            "Crawling 162: https://www.ibm.com/topics/edi-electronic-data-interchange\n",
            "Crawling 163: https://www.ibm.com/topics/content-delivery-networks\n",
            "Crawling 164: https://www.ibm.com/topics/artificial-intelligence\n",
            "Crawling 165: https://www.ibm.com/topics/visual-inspection\n",
            "Crawling 166: https://www.ibm.com/topics/exploratory-data-analysis\n",
            "Crawling 167: https://www.ibm.com/topics/paas\n",
            "Crawling 168: https://www.ibm.com/topics/network-security\n",
            "Crawling 169: https://www.ibm.com/topics/relational-databases\n",
            "Crawling 170: https://www.ibm.com/topics/inventory-management\n",
            "Crawling 171: https://www.ibm.com/topics/field-service-management\n",
            "Crawling 172: https://www.ibm.com/topics/etcd\n",
            "Crawling 173: https://www.ibm.com/topics/java-spring-boot\n",
            "Crawling 174: https://www.ibm.com/topics/automation\n",
            "Crawling 175: https://www.ibm.com/topics/interactive-voice-response\n",
            "Crawling 176: https://www.ibm.com/data-security\n",
            "Crawling 177: https://www.ibm.com/topics/generative-ai\n",
            "Crawling 178: https://www.ibm.com/topics/cyber-attack\n",
            "Crawling 179: https://www.ibm.com/topics/prompt-injection\n",
            "Crawling 180: https://www.ibm.com/topics/ransomware\n",
            "Crawling 181: https://www.ibm.com/topics/incident-response\n",
            "Crawling 182: https://www.ibm.com/topics/multi-factor-authentication\n",
            "Crawling 183: https://www.ibm.com/think/insights/ai-risk-management\n",
            "Crawling 184: https://www.ibm.com/topics/internet-of-things\n",
            "Crawling 185: https://www.ibm.com/topics/disaster-recovery\n",
            "Crawling 186: https://www.ibm.com/topics/kerberoasting\n",
            "Crawling 187: https://www.ibm.com/think/topics/ai-security\n",
            "Crawling 188: https://www.ibm.com/topics/byod\n",
            "Crawling 189: https://www.ibm.com/topics/spear-phishing\n",
            "Crawling 190: https://www.ibm.com/topics/business-email-compromise\n",
            "Crawling 191: https://www.ibm.com/think/topics/lateral-movement\n",
            "Crawling 192: https://www.ibm.com/topics/edr\n",
            "Crawling 193: https://www.ibm.com/topics/zero-trust\n",
            "Crawling 194: https://www.ibm.com/thought-leadership/institute-business-value/report/securing-generative-ai\n",
            "Crawling 195: https://www.ibm.com/security\n",
            "Crawling 196: https://www.ibm.com/topics/attack-surface-management\n",
            "Crawling 197: https://www.ibm.com/topics/encryption\n",
            "Crawling 198: https://www.ibm.com/services/security\n",
            "Crawling 199: https://www.ibm.com/services/threat-detection-response\n",
            "Crawling 200: https://www.ibm.com/blog/x-force-cloud-threat-landscape/\n",
            "\n",
            "Crawled 100 pages.\n"
          ]
        },
        {
          "output_type": "execute_result",
          "data": {
            "text/plain": [
              "{'https://www.ibm.com/blog/x-force-cloud-threat-landscape/',\n",
              " 'https://www.ibm.com/data-security',\n",
              " 'https://www.ibm.com/security',\n",
              " 'https://www.ibm.com/services/security',\n",
              " 'https://www.ibm.com/services/threat-detection-response',\n",
              " 'https://www.ibm.com/think/insights/ai-risk-management',\n",
              " 'https://www.ibm.com/think/podcasts',\n",
              " 'https://www.ibm.com/think/topics/ai-security',\n",
              " 'https://www.ibm.com/think/topics/lateral-movement',\n",
              " 'https://www.ibm.com/think/videos',\n",
              " 'https://www.ibm.com/thought-leadership/institute-business-value/report/securing-generative-ai',\n",
              " 'https://www.ibm.com/topics',\n",
              " 'https://www.ibm.com/topics/api',\n",
              " 'https://www.ibm.com/topics/artificial-intelligence',\n",
              " 'https://www.ibm.com/topics/attack-surface-management',\n",
              " 'https://www.ibm.com/topics/automation',\n",
              " 'https://www.ibm.com/topics/block-storage',\n",
              " 'https://www.ibm.com/topics/business-email-compromise',\n",
              " 'https://www.ibm.com/topics/business-intelligence',\n",
              " 'https://www.ibm.com/topics/byod',\n",
              " 'https://www.ibm.com/topics/cap-theorem',\n",
              " 'https://www.ibm.com/topics/captcha',\n",
              " 'https://www.ibm.com/topics/chatbots',\n",
              " 'https://www.ibm.com/topics/cloud-computing',\n",
              " 'https://www.ibm.com/topics/cloud-security',\n",
              " 'https://www.ibm.com/topics/content-delivery-networks',\n",
              " 'https://www.ibm.com/topics/cyber-attack',\n",
              " 'https://www.ibm.com/topics/cybersecurity',\n",
              " 'https://www.ibm.com/topics/data-mining',\n",
              " 'https://www.ibm.com/topics/data-science',\n",
              " 'https://www.ibm.com/topics/database-schema',\n",
              " 'https://www.ibm.com/topics/ddos',\n",
              " 'https://www.ibm.com/topics/deep-learning',\n",
              " 'https://www.ibm.com/topics/devops',\n",
              " 'https://www.ibm.com/topics/devsecops',\n",
              " 'https://www.ibm.com/topics/disaster-recovery',\n",
              " 'https://www.ibm.com/topics/edi-electronic-data-interchange',\n",
              " 'https://www.ibm.com/topics/edr',\n",
              " 'https://www.ibm.com/topics/encryption',\n",
              " 'https://www.ibm.com/topics/energy-management',\n",
              " 'https://www.ibm.com/topics/etcd',\n",
              " 'https://www.ibm.com/topics/exploratory-data-analysis',\n",
              " 'https://www.ibm.com/topics/field-service-management',\n",
              " 'https://www.ibm.com/topics/file-storage',\n",
              " 'https://www.ibm.com/topics/generative-ai',\n",
              " 'https://www.ibm.com/topics/hpc',\n",
              " 'https://www.ibm.com/topics/incident-response',\n",
              " 'https://www.ibm.com/topics/interactive-voice-response',\n",
              " 'https://www.ibm.com/topics/internet-of-things',\n",
              " 'https://www.ibm.com/topics/inventory-management',\n",
              " 'https://www.ibm.com/topics/it-management',\n",
              " 'https://www.ibm.com/topics/java-spring-boot',\n",
              " 'https://www.ibm.com/topics/kerberoasting',\n",
              " 'https://www.ibm.com/topics/knn',\n",
              " 'https://www.ibm.com/topics/kubernetes',\n",
              " 'https://www.ibm.com/topics/linear-regression',\n",
              " 'https://www.ibm.com/topics/load-balancing',\n",
              " 'https://www.ibm.com/topics/logistic-regression',\n",
              " 'https://www.ibm.com/topics/machine-learning',\n",
              " 'https://www.ibm.com/topics/malware',\n",
              " 'https://www.ibm.com/topics/managed-file-transfer',\n",
              " 'https://www.ibm.com/topics/microservices',\n",
              " 'https://www.ibm.com/topics/middleware',\n",
              " 'https://www.ibm.com/topics/mobile-application-development',\n",
              " 'https://www.ibm.com/topics/monte-carlo-simulation',\n",
              " 'https://www.ibm.com/topics/multi-factor-authentication',\n",
              " 'https://www.ibm.com/topics/natural-language-processing',\n",
              " 'https://www.ibm.com/topics/network-operations-center',\n",
              " 'https://www.ibm.com/topics/network-security',\n",
              " 'https://www.ibm.com/topics/neural-networks',\n",
              " 'https://www.ibm.com/topics/nosql-databases',\n",
              " 'https://www.ibm.com/topics/order-management',\n",
              " 'https://www.ibm.com/topics/paas',\n",
              " 'https://www.ibm.com/topics/phishing',\n",
              " 'https://www.ibm.com/topics/prompt-injection',\n",
              " 'https://www.ibm.com/topics/quantum-computing',\n",
              " 'https://www.ibm.com/topics/ransomware',\n",
              " 'https://www.ibm.com/topics/relational-databases',\n",
              " 'https://www.ibm.com/topics/rest-apis',\n",
              " 'https://www.ibm.com/topics/rpa',\n",
              " 'https://www.ibm.com/topics/saas',\n",
              " 'https://www.ibm.com/topics/sdn',\n",
              " 'https://www.ibm.com/topics/security-operations-center',\n",
              " 'https://www.ibm.com/topics/serverless',\n",
              " 'https://www.ibm.com/topics/siem',\n",
              " 'https://www.ibm.com/topics/site-reliability-engineering',\n",
              " 'https://www.ibm.com/topics/software-development',\n",
              " 'https://www.ibm.com/topics/software-testing',\n",
              " 'https://www.ibm.com/topics/spear-phishing',\n",
              " 'https://www.ibm.com/topics/tcfd',\n",
              " 'https://www.ibm.com/topics/three-tier-architecture',\n",
              " 'https://www.ibm.com/topics/vector-database',\n",
              " 'https://www.ibm.com/topics/virtualization',\n",
              " 'https://www.ibm.com/topics/visual-inspection',\n",
              " 'https://www.ibm.com/topics/vpc',\n",
              " 'https://www.ibm.com/topics/what-is-a-cmms',\n",
              " 'https://www.ibm.com/topics/what-is-a-digital-twin',\n",
              " 'https://www.ibm.com/topics/what-is-preventive-maintenance',\n",
              " 'https://www.ibm.com/topics/workflow',\n",
              " 'https://www.ibm.com/topics/zero-trust'}"
            ]
          },
          "metadata": {},
          "execution_count": 47
        }
      ]
    },
    {
      "cell_type": "code",
      "source": [
        "firebaseService.update_index_in_db(indexService.get_reverse_index())"
      ],
      "metadata": {
        "colab": {
          "base_uri": "https://localhost:8080/"
        },
        "id": "KFH5prCFQ-mH",
        "outputId": "96f3ab57-d802-44f1-a32f-590e7897358f"
      },
      "execution_count": 48,
      "outputs": [
        {
          "output_type": "stream",
          "name": "stdout",
          "text": [
            "update made for index=saa (SAAS)\n",
            "update made for index=paa (PAAS)\n",
            "update made for index=iaa (IAAS)\n",
            "update made for index=privat (Private)\n",
            "update made for index=public (Public)\n",
            "update made for index=hybrid (Hybrid)\n",
            "update made for index=servic (Service)\n",
            "update made for index=platform (Platform)\n",
            "update made for index=infrastructur (Infrastructure)\n",
            "update made for index=studi (Study)\n",
            "update made for index=case (Case)\n",
            "update made for index=chatbot (Chatbot)\n",
            "update made for index=engin (Engine)\n",
            "update made for index=cloud (Cloud)\n",
            "update made for index=monitor (Monitor)\n",
            "update made for index=data (Data)\n",
            "update made for index=mainfram (Mainframe)\n",
            "update made for index=perform (Performance)\n",
            "update made for index=secur (Security)\n",
            "update made for index=sla (SLA)\n",
            "update made for index=kpi (KPI)\n",
            "update made for index=soa (SOA)\n",
            "update made for index=inform (Information)\n",
            "update made for index=kafka (Kafka)\n",
            "update made for index=sql (SQL)\n",
            "update made for index=technolog (Technology)\n",
            "update made for index=databas (Database)\n",
            "update made for index=docker (Docker)\n",
            "update made for index=kubernet (Kubernetes)\n",
            "update made for index=rabbitmq (RabbitMQ)\n",
            "update made for index=ibm (IBM)\n",
            "update made for index=googl (Google)\n",
            "update made for index=amazon (Amazon)\n",
            "update made for index=ai (AI)\n",
            "Updated given index in DB\n"
          ]
        }
      ]
    },
    {
      "cell_type": "code",
      "source": [
        "import pandas as pd\n",
        "import matplotlib.pyplot as plt\n",
        "import seaborn as sns\n",
        "\n",
        "def displayCntrGraph(index):\n",
        "  ind_names = [ind[\"term\"] for ind in index.values()]\n",
        "  ind_cntrs = [sum(ind[\"DocIDs_cntrs\"]) for ind in index.values()]\n",
        "  ind_data = pd.DataFrame({\n",
        "      \"Index\":ind_names,\n",
        "      \"Appearances\":ind_cntrs\n",
        "  })\n",
        "\n",
        "  plt.clf()  # Clear the current figure\n",
        "  plt.figure(figsize=(10, 8))  # Increased figure size to accommodate labels\n",
        "  plt.title(\"Appearance of indexes in IBM:\")\n",
        "\n",
        "  ax = sns.barplot(x=\"Index\", y=\"Appearances\",\n",
        "                  errwidth=0, data=ind_data)\n",
        "  for i in ax.containers:\n",
        "    ax.bar_label(i,)\n",
        "  plt.xticks(rotation=45)\n",
        "  plt.show()  # Add this to display the plot\n",
        "  plt.close()  # Close the figure to free memory\n",
        "\n",
        "displayCntrGraph(indexService.get_reverse_index())"
      ],
      "metadata": {
        "colab": {
          "base_uri": "https://localhost:8080/",
          "height": 888
        },
        "id": "WwmtLa5BQ7au",
        "outputId": "6530eb44-6e95-490c-ac74-bc0b9c429316"
      },
      "execution_count": 49,
      "outputs": [
        {
          "output_type": "stream",
          "name": "stderr",
          "text": [
            "<ipython-input-49-4852d522e83c>:17: FutureWarning: \n",
            "\n",
            "The `errwidth` parameter is deprecated. And will be removed in v0.15.0. Pass `err_kws={'linewidth': 0}` instead.\n",
            "\n",
            "  ax = sns.barplot(x=\"Index\", y=\"Appearances\",\n"
          ]
        },
        {
          "output_type": "display_data",
          "data": {
            "text/plain": [
              "<Figure size 640x480 with 0 Axes>"
            ]
          },
          "metadata": {}
        },
        {
          "output_type": "display_data",
          "data": {
            "text/plain": [
              "<Figure size 1000x800 with 1 Axes>"
            ],
            "image/png": "[encoded data removed]"
          },
          "metadata": {}
        }
      ]
    },
    {
      "cell_type": "code",
      "source": [
        "searchHistory = []"
      ],
      "metadata": {
        "id": "AD53WLiuJ79J"
      },
      "execution_count": null,
      "outputs": []
    },
    {
      "cell_type": "markdown",
      "source": [
        "TODO search engine by text field, you can use the code from exercise 6, save the search history"
      ],
      "metadata": {
        "id": "FsE469x9Jav4"
      }
    },
    {
      "cell_type": "markdown",
      "source": [
        "TODO 3 tabs: search results, graph that shows the rank of each page, graph for the website cover of the query keywords"
      ],
      "metadata": {
        "id": "kVCt2RXLJjVw"
      }
    },
    {
      "cell_type": "markdown",
      "source": [
        "TODO add the group logo from drive"
      ],
      "metadata": {
        "id": "zpBcuOt7KCd8"
      }
    },
    {
      "cell_type": "markdown",
      "source": [
        "TODO enable shering, make the link public"
      ],
      "metadata": {
        "id": "SUGPxqGCKcqJ"
      }
    }
  ]
}