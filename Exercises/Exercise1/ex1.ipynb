{
  "nbformat": 4,
  "nbformat_minor": 0,
  "metadata": {
    "colab": {
      "provenance": []
    },
    "kernelspec": {
      "name": "python3",
      "display_name": "Python 3"
    },
    "language_info": {
      "name": "python"
    },
    "widgets": {
      "application/vnd.jupyter.widget-state+json": {
        "b5d838ea32304e6881eee00b903b934e": {
          "model_module": "@jupyter-widgets/controls",
          "model_name": "VBoxModel",
          "model_module_version": "1.5.0",
          "state": {
            "_dom_classes": [],
            "_model_module": "@jupyter-widgets/controls",
            "_model_module_version": "1.5.0",
            "_model_name": "VBoxModel",
            "_view_count": null,
            "_view_module": "@jupyter-widgets/controls",
            "_view_module_version": "1.5.0",
            "_view_name": "VBoxView",
            "box_style": "",
            "children": [
              "IPY_MODEL_45254d60274d4117886f652dad1e9503",
              "IPY_MODEL_2907174a0b024ce48fa114d00c21d16a",
              "IPY_MODEL_c2e09a11046c41d28e878f775c4de17d",
              "IPY_MODEL_ad83de0091b4409fbeab19512f34697d",
              "IPY_MODEL_2aa847ddcf5048deaa38ce7450d3df8a",
              "IPY_MODEL_2ad2a8f8b68d4b279ac90d6cec90d927",
              "IPY_MODEL_1a5cf9bf152b4fd3bc07018bae6a5b7f"
            ],
            "layout": "IPY_MODEL_5f7717b4cd8b4effa627ae4927cff778"
          }
        },
        "45254d60274d4117886f652dad1e9503": {
          "model_module": "@jupyter-widgets/controls",
          "model_name": "DropdownModel",
          "model_module_version": "1.5.0",
          "state": {
            "_dom_classes": [],
            "_model_module": "@jupyter-widgets/controls",
            "_model_module_version": "1.5.0",
            "_model_name": "DropdownModel",
            "_options_labels": [
              "Select a student",
              "israel",
              "Kfir",
              "Shahar",
              "Shlomi",
              "Omer",
              "Vladi"
            ],
            "_view_count": null,
            "_view_module": "@jupyter-widgets/controls",
            "_view_module_version": "1.5.0",
            "_view_name": "DropdownView",
            "description": "Student: ",
            "description_tooltip": null,
            "disabled": false,
            "index": 3,
            "layout": "IPY_MODEL_6d31c86ccb554ef4a2374d5f5effff38",
            "style": "IPY_MODEL_be5ad96896f343a7901cc881164b6a39"
          }
        },
        "2907174a0b024ce48fa114d00c21d16a": {
          "model_module": "@jupyter-widgets/controls",
          "model_name": "TextModel",
          "model_module_version": "1.5.0",
          "state": {
            "_dom_classes": [],
            "_model_module": "@jupyter-widgets/controls",
            "_model_module_version": "1.5.0",
            "_model_name": "TextModel",
            "_view_count": null,
            "_view_module": "@jupyter-widgets/controls",
            "_view_module_version": "1.5.0",
            "_view_name": "TextView",
            "continuous_update": true,
            "description": "First Name: ",
            "description_tooltip": null,
            "disabled": true,
            "layout": "IPY_MODEL_6d31c86ccb554ef4a2374d5f5effff38",
            "placeholder": "​",
            "style": "IPY_MODEL_efd98cbf4cc5409c9faeee03bb01d4ae",
            "value": "Shahar"
          }
        },
        "c2e09a11046c41d28e878f775c4de17d": {
          "model_module": "@jupyter-widgets/controls",
          "model_name": "TextModel",
          "model_module_version": "1.5.0",
          "state": {
            "_dom_classes": [],
            "_model_module": "@jupyter-widgets/controls",
            "_model_module_version": "1.5.0",
            "_model_name": "TextModel",
            "_view_count": null,
            "_view_module": "@jupyter-widgets/controls",
            "_view_module_version": "1.5.0",
            "_view_name": "TextView",
            "continuous_update": true,
            "description": "Last Name: ",
            "description_tooltip": null,
            "disabled": true,
            "layout": "IPY_MODEL_6d31c86ccb554ef4a2374d5f5effff38",
            "placeholder": "​",
            "style": "IPY_MODEL_73d27576d5e14d63977f0f608a9f88d8",
            "value": "Berenson"
          }
        },
        "ad83de0091b4409fbeab19512f34697d": {
          "model_module": "@jupyter-widgets/controls",
          "model_name": "TextModel",
          "model_module_version": "1.5.0",
          "state": {
            "_dom_classes": [],
            "_model_module": "@jupyter-widgets/controls",
            "_model_module_version": "1.5.0",
            "_model_name": "TextModel",
            "_view_count": null,
            "_view_module": "@jupyter-widgets/controls",
            "_view_module_version": "1.5.0",
            "_view_name": "TextView",
            "continuous_update": true,
            "description": "Mail: ",
            "description_tooltip": null,
            "disabled": true,
            "layout": "IPY_MODEL_6d31c86ccb554ef4a2374d5f5effff38",
            "placeholder": "​",
            "style": "IPY_MODEL_ca246d685e3e438aa021687a6f77bee6",
            "value": "Shahar.Berenson@e.braude.ac.il"
          }
        },
        "2aa847ddcf5048deaa38ce7450d3df8a": {
          "model_module": "@jupyter-widgets/controls",
          "model_name": "TextModel",
          "model_module_version": "1.5.0",
          "state": {
            "_dom_classes": [],
            "_model_module": "@jupyter-widgets/controls",
            "_model_module_version": "1.5.0",
            "_model_name": "TextModel",
            "_view_count": null,
            "_view_module": "@jupyter-widgets/controls",
            "_view_module_version": "1.5.0",
            "_view_name": "TextView",
            "continuous_update": true,
            "description": "Courses: ",
            "description_tooltip": null,
            "disabled": true,
            "layout": "IPY_MODEL_6d31c86ccb554ef4a2374d5f5effff38",
            "placeholder": "​",
            "style": "IPY_MODEL_37ca43dfa3d34a9398a370731a189f13",
            "value": "['web', 'cloud']"
          }
        },
        "2ad2a8f8b68d4b279ac90d6cec90d927": {
          "model_module": "@jupyter-widgets/controls",
          "model_name": "TextModel",
          "model_module_version": "1.5.0",
          "state": {
            "_dom_classes": [],
            "_model_module": "@jupyter-widgets/controls",
            "_model_module_version": "1.5.0",
            "_model_name": "TextModel",
            "_view_count": null,
            "_view_module": "@jupyter-widgets/controls",
            "_view_module_version": "1.5.0",
            "_view_name": "TextView",
            "continuous_update": true,
            "description": "Courses: ",
            "description_tooltip": null,
            "disabled": true,
            "layout": "IPY_MODEL_6d31c86ccb554ef4a2374d5f5effff38",
            "placeholder": "​",
            "style": "IPY_MODEL_e1f391988aa4476598ead345b45e2eb0",
            "value": "https://encrypted-tbn0.gstatic.com/images?q=tbn:ANd9GcTHZbtv9oFC2W0d4AV_Cj_4VWG4BA8lak7R-g&s"
          }
        },
        "1a5cf9bf152b4fd3bc07018bae6a5b7f": {
          "model_module": "@jupyter-widgets/controls",
          "model_name": "TextModel",
          "model_module_version": "1.5.0",
          "state": {
            "_dom_classes": [],
            "_model_module": "@jupyter-widgets/controls",
            "_model_module_version": "1.5.0",
            "_model_name": "TextModel",
            "_view_count": null,
            "_view_module": "@jupyter-widgets/controls",
            "_view_module_version": "1.5.0",
            "_view_name": "TextView",
            "continuous_update": true,
            "description": "favorite series: ",
            "description_tooltip": null,
            "disabled": false,
            "layout": "IPY_MODEL_6d31c86ccb554ef4a2374d5f5effff38",
            "placeholder": "​",
            "style": "IPY_MODEL_eb5a63df467144cc87a6ab1e66859930",
            "value": "nikita"
          }
        },
        "5f7717b4cd8b4effa627ae4927cff778": {
          "model_module": "@jupyter-widgets/base",
          "model_name": "LayoutModel",
          "model_module_version": "1.2.0",
          "state": {
            "_model_module": "@jupyter-widgets/base",
            "_model_module_version": "1.2.0",
            "_model_name": "LayoutModel",
            "_view_count": null,
            "_view_module": "@jupyter-widgets/base",
            "_view_module_version": "1.2.0",
            "_view_name": "LayoutView",
            "align_content": null,
            "align_items": null,
            "align_self": null,
            "border": null,
            "bottom": null,
            "display": null,
            "flex": null,
            "flex_flow": null,
            "grid_area": null,
            "grid_auto_columns": null,
            "grid_auto_flow": null,
            "grid_auto_rows": null,
            "grid_column": null,
            "grid_gap": null,
            "grid_row": null,
            "grid_template_areas": null,
            "grid_template_columns": null,
            "grid_template_rows": null,
            "height": null,
            "justify_content": null,
            "justify_items": null,
            "left": null,
            "margin": null,
            "max_height": null,
            "max_width": null,
            "min_height": null,
            "min_width": null,
            "object_fit": null,
            "object_position": null,
            "order": null,
            "overflow": null,
            "overflow_x": null,
            "overflow_y": null,
            "padding": null,
            "right": null,
            "top": null,
            "visibility": null,
            "width": null
          }
        },
        "6d31c86ccb554ef4a2374d5f5effff38": {
          "model_module": "@jupyter-widgets/base",
          "model_name": "LayoutModel",
          "model_module_version": "1.2.0",
          "state": {
            "_model_module": "@jupyter-widgets/base",
            "_model_module_version": "1.2.0",
            "_model_name": "LayoutModel",
            "_view_count": null,
            "_view_module": "@jupyter-widgets/base",
            "_view_module_version": "1.2.0",
            "_view_name": "LayoutView",
            "align_content": null,
            "align_items": "center",
            "align_self": null,
            "border": null,
            "bottom": null,
            "display": null,
            "flex": null,
            "flex_flow": null,
            "grid_area": null,
            "grid_auto_columns": null,
            "grid_auto_flow": null,
            "grid_auto_rows": null,
            "grid_column": null,
            "grid_gap": null,
            "grid_row": null,
            "grid_template_areas": null,
            "grid_template_columns": null,
            "grid_template_rows": null,
            "height": null,
            "justify_content": null,
            "justify_items": null,
            "left": null,
            "margin": null,
            "max_height": null,
            "max_width": null,
            "min_height": null,
            "min_width": null,
            "object_fit": null,
            "object_position": null,
            "order": null,
            "overflow": null,
            "overflow_x": null,
            "overflow_y": null,
            "padding": "3px",
            "right": null,
            "top": null,
            "visibility": null,
            "width": "500px"
          }
        },
        "be5ad96896f343a7901cc881164b6a39": {
          "model_module": "@jupyter-widgets/controls",
          "model_name": "DescriptionStyleModel",
          "model_module_version": "1.5.0",
          "state": {
            "_model_module": "@jupyter-widgets/controls",
            "_model_module_version": "1.5.0",
            "_model_name": "DescriptionStyleModel",
            "_view_count": null,
            "_view_module": "@jupyter-widgets/base",
            "_view_module_version": "1.2.0",
            "_view_name": "StyleView",
            "description_width": "100px"
          }
        },
        "efd98cbf4cc5409c9faeee03bb01d4ae": {
          "model_module": "@jupyter-widgets/controls",
          "model_name": "DescriptionStyleModel",
          "model_module_version": "1.5.0",
          "state": {
            "_model_module": "@jupyter-widgets/controls",
            "_model_module_version": "1.5.0",
            "_model_name": "DescriptionStyleModel",
            "_view_count": null,
            "_view_module": "@jupyter-widgets/base",
            "_view_module_version": "1.2.0",
            "_view_name": "StyleView",
            "description_width": "100px"
          }
        },
        "73d27576d5e14d63977f0f608a9f88d8": {
          "model_module": "@jupyter-widgets/controls",
          "model_name": "DescriptionStyleModel",
          "model_module_version": "1.5.0",
          "state": {
            "_model_module": "@jupyter-widgets/controls",
            "_model_module_version": "1.5.0",
            "_model_name": "DescriptionStyleModel",
            "_view_count": null,
            "_view_module": "@jupyter-widgets/base",
            "_view_module_version": "1.2.0",
            "_view_name": "StyleView",
            "description_width": "100px"
          }
        },
        "ca246d685e3e438aa021687a6f77bee6": {
          "model_module": "@jupyter-widgets/controls",
          "model_name": "DescriptionStyleModel",
          "model_module_version": "1.5.0",
          "state": {
            "_model_module": "@jupyter-widgets/controls",
            "_model_module_version": "1.5.0",
            "_model_name": "DescriptionStyleModel",
            "_view_count": null,
            "_view_module": "@jupyter-widgets/base",
            "_view_module_version": "1.2.0",
            "_view_name": "StyleView",
            "description_width": "100px"
          }
        },
        "37ca43dfa3d34a9398a370731a189f13": {
          "model_module": "@jupyter-widgets/controls",
          "model_name": "DescriptionStyleModel",
          "model_module_version": "1.5.0",
          "state": {
            "_model_module": "@jupyter-widgets/controls",
            "_model_module_version": "1.5.0",
            "_model_name": "DescriptionStyleModel",
            "_view_count": null,
            "_view_module": "@jupyter-widgets/base",
            "_view_module_version": "1.2.0",
            "_view_name": "StyleView",
            "description_width": "100px"
          }
        },
        "e1f391988aa4476598ead345b45e2eb0": {
          "model_module": "@jupyter-widgets/controls",
          "model_name": "DescriptionStyleModel",
          "model_module_version": "1.5.0",
          "state": {
            "_model_module": "@jupyter-widgets/controls",
            "_model_module_version": "1.5.0",
            "_model_name": "DescriptionStyleModel",
            "_view_count": null,
            "_view_module": "@jupyter-widgets/base",
            "_view_module_version": "1.2.0",
            "_view_name": "StyleView",
            "description_width": "100px"
          }
        },
        "eb5a63df467144cc87a6ab1e66859930": {
          "model_module": "@jupyter-widgets/controls",
          "model_name": "DescriptionStyleModel",
          "model_module_version": "1.5.0",
          "state": {
            "_model_module": "@jupyter-widgets/controls",
            "_model_module_version": "1.5.0",
            "_model_name": "DescriptionStyleModel",
            "_view_count": null,
            "_view_module": "@jupyter-widgets/base",
            "_view_module_version": "1.2.0",
            "_view_name": "StyleView",
            "description_width": "100px"
          }
        },
        "ac93d2f54fef45118670aadad8c86382": {
          "model_module": "@jupyter-widgets/controls",
          "model_name": "ButtonModel",
          "model_module_version": "1.5.0",
          "state": {
            "_dom_classes": [],
            "_model_module": "@jupyter-widgets/controls",
            "_model_module_version": "1.5.0",
            "_model_name": "ButtonModel",
            "_view_count": null,
            "_view_module": "@jupyter-widgets/controls",
            "_view_module_version": "1.5.0",
            "_view_name": "ButtonView",
            "button_style": "success",
            "description": "Save",
            "disabled": false,
            "icon": "",
            "layout": "IPY_MODEL_45e51de3eb924d3ea7726cd0bacd973b",
            "style": "IPY_MODEL_92601c0e43fe4af6971bab7b328c0d8b",
            "tooltip": ""
          }
        },
        "45e51de3eb924d3ea7726cd0bacd973b": {
          "model_module": "@jupyter-widgets/base",
          "model_name": "LayoutModel",
          "model_module_version": "1.2.0",
          "state": {
            "_model_module": "@jupyter-widgets/base",
            "_model_module_version": "1.2.0",
            "_model_name": "LayoutModel",
            "_view_count": null,
            "_view_module": "@jupyter-widgets/base",
            "_view_module_version": "1.2.0",
            "_view_name": "LayoutView",
            "align_content": null,
            "align_items": null,
            "align_self": null,
            "border": null,
            "bottom": null,
            "display": null,
            "flex": null,
            "flex_flow": null,
            "grid_area": null,
            "grid_auto_columns": null,
            "grid_auto_flow": null,
            "grid_auto_rows": null,
            "grid_column": null,
            "grid_gap": null,
            "grid_row": null,
            "grid_template_areas": null,
            "grid_template_columns": null,
            "grid_template_rows": null,
            "height": null,
            "justify_content": null,
            "justify_items": null,
            "left": null,
            "margin": null,
            "max_height": null,
            "max_width": null,
            "min_height": null,
            "min_width": null,
            "object_fit": null,
            "object_position": null,
            "order": null,
            "overflow": null,
            "overflow_x": null,
            "overflow_y": null,
            "padding": null,
            "right": null,
            "top": null,
            "visibility": null,
            "width": null
          }
        },
        "92601c0e43fe4af6971bab7b328c0d8b": {
          "model_module": "@jupyter-widgets/controls",
          "model_name": "ButtonStyleModel",
          "model_module_version": "1.5.0",
          "state": {
            "_model_module": "@jupyter-widgets/controls",
            "_model_module_version": "1.5.0",
            "_model_name": "ButtonStyleModel",
            "_view_count": null,
            "_view_module": "@jupyter-widgets/base",
            "_view_module_version": "1.2.0",
            "_view_name": "StyleView",
            "button_color": null,
            "font_weight": ""
          }
        },
        "136ca15413bd4d6895beb792956452f3": {
          "model_module": "@jupyter-widgets/output",
          "model_name": "OutputModel",
          "model_module_version": "1.0.0",
          "state": {
            "_dom_classes": [],
            "_model_module": "@jupyter-widgets/output",
            "_model_module_version": "1.0.0",
            "_model_name": "OutputModel",
            "_view_count": null,
            "_view_module": "@jupyter-widgets/output",
            "_view_module_version": "1.0.0",
            "_view_name": "OutputView",
            "layout": "IPY_MODEL_94b49f546f5b478ba602cfab34b26855",
            "msg_id": "",
            "outputs": []
          }
        },
        "94b49f546f5b478ba602cfab34b26855": {
          "model_module": "@jupyter-widgets/base",
          "model_name": "LayoutModel",
          "model_module_version": "1.2.0",
          "state": {
            "_model_module": "@jupyter-widgets/base",
            "_model_module_version": "1.2.0",
            "_model_name": "LayoutModel",
            "_view_count": null,
            "_view_module": "@jupyter-widgets/base",
            "_view_module_version": "1.2.0",
            "_view_name": "LayoutView",
            "align_content": null,
            "align_items": null,
            "align_self": null,
            "border": null,
            "bottom": null,
            "display": null,
            "flex": null,
            "flex_flow": null,
            "grid_area": null,
            "grid_auto_columns": null,
            "grid_auto_flow": null,
            "grid_auto_rows": null,
            "grid_column": null,
            "grid_gap": null,
            "grid_row": null,
            "grid_template_areas": null,
            "grid_template_columns": null,
            "grid_template_rows": null,
            "height": null,
            "justify_content": null,
            "justify_items": null,
            "left": null,
            "margin": null,
            "max_height": null,
            "max_width": null,
            "min_height": null,
            "min_width": null,
            "object_fit": null,
            "object_position": null,
            "order": null,
            "overflow": null,
            "overflow_x": null,
            "overflow_y": null,
            "padding": null,
            "right": null,
            "top": null,
            "visibility": null,
            "width": null
          }
        }
      }
    }
  },
  "cells": [
    {
      "cell_type": "code",
      "source": [
        "import json\n",
        "import ipywidgets as widgets"
      ],
      "metadata": {
        "id": "qzCBAQS_71ni"
      },
      "execution_count": 1,
      "outputs": []
    },
    {
      "cell_type": "code",
      "source": [
        "# load the json file with the students data\n",
        "with open(\"student.txt\", \"r\") as file:\n",
        "  data = json.load(file)\n",
        "\n",
        "studentDict = {}\n",
        "for student in data:\n",
        "  studentDict[student[\"name\"]] = student\n",
        "# print(studentDict)\n",
        "\n",
        "\n",
        "def saveData():\n",
        "  with open(\"student.txt\", \"w\") as file:\n",
        "    json.dump(data, file, indent=4)"
      ],
      "metadata": {
        "id": "KH3ffICB7o8G"
      },
      "execution_count": 2,
      "outputs": []
    },
    {
      "cell_type": "code",
      "source": [
        "myLayout = widgets.Layout(\n",
        "    width='500px',\n",
        "    padding='3px',\n",
        "    align_items='center'\n",
        ")\n",
        "description_width = \"100px\""
      ],
      "metadata": {
        "id": "h19NdcSnNo4P"
      },
      "execution_count": 3,
      "outputs": []
    },
    {
      "cell_type": "code",
      "source": [
        "dropdown = widgets.Dropdown(\n",
        "    options=[\"Select a student\"] + list(studentDict.keys()),\n",
        "    description=\"Student: \",\n",
        "    style={'description_width': description_width},\n",
        "    layout=myLayout\n",
        ")\n",
        "ftDict  = {}\n",
        "ftDict[\"name\"] = widgets.Text(\n",
        "    description=\"First Name: \",\n",
        "    value=\"unknown\",\n",
        "    disabled=True,\n",
        "    style={'description_width': description_width},\n",
        "    layout=myLayout\n",
        ")\n",
        "ftDict[\"last name\"] = widgets.Text(\n",
        "    description=\"Last Name: \",\n",
        "    value=\"unknown\",\n",
        "    disabled=True,\n",
        "    style={'description_width': description_width},\n",
        "    layout=myLayout\n",
        ")\n",
        "ftDict[\"mail\"] = widgets.Text(\n",
        "    description=\"Mail: \",\n",
        "    value=\"unknown\",\n",
        "    disabled=True,\n",
        "    style={'description_width': description_width},\n",
        "    layout=myLayout\n",
        ")\n",
        "ftDict[\"courses\"] = widgets.Text(\n",
        "    description=\"Courses: \",\n",
        "    value=\"unknown\",\n",
        "    disabled=True,\n",
        "    style={'description_width': description_width},\n",
        "    layout=myLayout\n",
        ")\n",
        "ftDict[\"link\"] = widgets.Text(\n",
        "    description=\"Courses: \",\n",
        "    value=\"unknown\",\n",
        "    disabled=True,\n",
        "    style={'description_width': description_width},\n",
        "    layout=myLayout\n",
        ")\n",
        "ftDict[\"favorite series\"] = widgets.Text(\n",
        "    description=\"favorite series: \",\n",
        "    value=\"unknown\",\n",
        "    disabled=False,\n",
        "    style={'description_width': description_width},\n",
        "    layout=myLayout\n",
        ")\n",
        "\n",
        "#output = widgets.Output()\n",
        "\n",
        "def display_data(changeData):\n",
        "  #output.clear_output()\n",
        "\n",
        "  if (changeData.new != \"Select a student\"):\n",
        "    newStudent = studentDict[changeData.new]\n",
        "    #print(newStudent)\n",
        "    for key,value in newStudent.items():\n",
        "        #print(f\"{key}: {value}\")\n",
        "        ftDict[key].value = str(value)\n",
        "    #showFT.value = newStudent[\"favorite series\"]\n",
        "\n",
        "def update_show(change):\n",
        "  selectedStudent = dropdown.value\n",
        "  if selectedStudent in studentDict.keys():\n",
        "    studentDict[selectedStudent][\"favorite series\"] = change.new\n",
        "  else:\n",
        "    newStudent = \"unknown\"\n",
        "\n",
        "dropdown.observe(display_data, names=\"value\")\n",
        "ftDict[\"favorite series\"].observe(update_show, names=\"value\")"
      ],
      "metadata": {
        "id": "lC7NvD2C9LMa"
      },
      "execution_count": 4,
      "outputs": []
    },
    {
      "cell_type": "code",
      "source": [
        "saveBtn = widgets.Button(\n",
        "    description=\"Save\",\n",
        "    button_style=\"success\"\n",
        ")\n",
        "\n",
        "output = widgets.Output()\n",
        "\n",
        "def saveBtn_clicked(btn):\n",
        "  with output:\n",
        "      print(\"Saving...\")\n",
        "      output.clear_output()\n",
        "      saveData()\n",
        "      print(\"Data saved\")\n",
        "\n",
        "saveBtn.on_click(saveBtn_clicked)"
      ],
      "metadata": {
        "id": "jTf1TslOLzGl"
      },
      "execution_count": 5,
      "outputs": []
    },
    {
      "cell_type": "code",
      "source": [
        "display(widgets.VBox([dropdown] + list(ftDict.values())), saveBtn, output)"
      ],
      "metadata": {
        "colab": {
          "base_uri": "https://localhost:8080/",
          "height": 309,
          "referenced_widgets": [
            "b5d838ea32304e6881eee00b903b934e",
            "45254d60274d4117886f652dad1e9503",
            "2907174a0b024ce48fa114d00c21d16a",
            "c2e09a11046c41d28e878f775c4de17d",
            "ad83de0091b4409fbeab19512f34697d",
            "2aa847ddcf5048deaa38ce7450d3df8a",
            "2ad2a8f8b68d4b279ac90d6cec90d927",
            "1a5cf9bf152b4fd3bc07018bae6a5b7f",
            "5f7717b4cd8b4effa627ae4927cff778",
            "6d31c86ccb554ef4a2374d5f5effff38",
            "be5ad96896f343a7901cc881164b6a39",
            "efd98cbf4cc5409c9faeee03bb01d4ae",
            "73d27576d5e14d63977f0f608a9f88d8",
            "ca246d685e3e438aa021687a6f77bee6",
            "37ca43dfa3d34a9398a370731a189f13",
            "e1f391988aa4476598ead345b45e2eb0",
            "eb5a63df467144cc87a6ab1e66859930",
            "ac93d2f54fef45118670aadad8c86382",
            "45e51de3eb924d3ea7726cd0bacd973b",
            "92601c0e43fe4af6971bab7b328c0d8b",
            "136ca15413bd4d6895beb792956452f3",
            "94b49f546f5b478ba602cfab34b26855"
          ]
        },
        "id": "k0NoRtDa-B9k",
        "outputId": "f30d45dd-0765-491e-fa10-945ccdfd585d"
      },
      "execution_count": 6,
      "outputs": [
        {
          "output_type": "display_data",
          "data": {
            "text/plain": [
              "VBox(children=(Dropdown(description='Student: ', layout=Layout(align_items='center', padding='3px', width='500…"
            ],
            "application/vnd.jupyter.widget-view+json": {
              "version_major": 2,
              "version_minor": 0,
              "model_id": "b5d838ea32304e6881eee00b903b934e"
            }
          },
          "metadata": {}
        },
        {
          "output_type": "display_data",
          "data": {
            "text/plain": [
              "Button(button_style='success', description='Save', style=ButtonStyle())"
            ],
            "application/vnd.jupyter.widget-view+json": {
              "version_major": 2,
              "version_minor": 0,
              "model_id": "ac93d2f54fef45118670aadad8c86382"
            }
          },
          "metadata": {}
        },
        {
          "output_type": "display_data",
          "data": {
            "text/plain": [
              "Output()"
            ],
            "application/vnd.jupyter.widget-view+json": {
              "version_major": 2,
              "version_minor": 0,
              "model_id": "136ca15413bd4d6895beb792956452f3"
            }
          },
          "metadata": {}
        }
      ]
    }
  ]
}