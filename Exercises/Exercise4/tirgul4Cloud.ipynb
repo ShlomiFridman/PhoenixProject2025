{
  "cells": [
    {
      "cell_type": "code",
      "execution_count": 1,
      "metadata": {
        "id": "Ib5jjwqdw1ET"
      },
      "outputs": [],
      "source": [
        "url = 'https://data.gov.il/api/3/action/datastore_search?resource_id=053cea08-09bc-40ec-8f7a-156f0677aff3'\n",
        "\n",
        "import requests\n",
        "import pandas as pd\n",
        "pd.set_option(\"display.max_columns\", None)\n",
        "response = requests.get(url)\n",
        "data = response.json()\n",
        "df = pd.DataFrame(data)\n",
        "\n",
        "\n",
        "# Create a DataFrame from the 'records' in the JSON response\n",
        "data_df = pd.DataFrame(data['result']['records'])\n"
      ]
    },
    {
      "cell_type": "code",
      "source": [
        "import pandas as pd\n",
        "import ipywidgets as widgets\n",
        "from IPython.display import display\n",
        "from plotly.offline import iplot\n",
        "import plotly.graph_objs as go\n",
        "import matplotlib.pyplot as plt\n",
        "import numpy as np\n",
        "import seaborn as sns\n",
        "import plotly.express as px"
      ],
      "metadata": {
        "id": "OamEyaJxAcv0"
      },
      "execution_count": 2,
      "outputs": []
    },
    {
      "cell_type": "code",
      "source": [
        "\n",
        "# tab 1 - statistics\n",
        "tab1 = widgets.Output()\n",
        "with tab1:\n",
        "    print(\"Data Overview:\")\n",
        "    display(data_df.describe())\n"
      ],
      "metadata": {
        "id": "lRaWeNkKEVJj"
      },
      "execution_count": 3,
      "outputs": []
    },
    {
      "cell_type": "code",
      "source": [
        "\n",
        "# tab 2 - display\n",
        "tab2 = widgets.Output()\n",
        "with tab2:\n",
        "    print(\"Raw Data:\")\n",
        "    display(data_df)"
      ],
      "metadata": {
        "id": "B8FEJWXoEV6o"
      },
      "execution_count": 4,
      "outputs": []
    },
    {
      "cell_type": "code",
      "source": [
        "\n",
        "# tab 3 - graph\n",
        "tab3 = widgets.Output()\n",
        "with tab3:\n",
        "    plt.clf()  # Clear the current figure\n",
        "    plt.figure(figsize=(10, 8))  # Increased figure size to accommodate labels\n",
        "    print(\"Different cars per year:\")\n",
        "    # Sample data\n",
        "    years = data_df[\"shnat_yitzur\"].unique()\n",
        "    years.sort()\n",
        "    yearsCntr = []\n",
        "    for year in data_df[\"shnat_yitzur\"].unique():\n",
        "      yearsCntr.append((data_df[\"shnat_yitzur\"] == year).sum())\n",
        "\n",
        "    sns.barplot({\"Years\":years, \"Amount\":yearsCntr}, x=\"Years\", y=\"Amount\")\n",
        "    plt.xticks(rotation=45)\n",
        "    plt.show()  # Add this to display the plot\n",
        "    plt.close()  # Close the figure to free memory\n",
        "\n",
        ""
      ],
      "metadata": {
        "id": "z1oUp1tzEWvS"
      },
      "execution_count": 52,
      "outputs": []
    },
    {
      "cell_type": "code",
      "source": [
        "\n",
        "tabs = widgets.Tab(children=[tab1, tab2,tab3])\n",
        "tabs.set_title(0, 'Tab 1: Data Overview')\n",
        "tabs.set_title(1, 'Tab 2: Raw Data')\n",
        "tabs.set_title(2, 'Tab 3: Graph')\n",
        "display(tabs)"
      ],
      "metadata": {
        "colab": {
          "base_uri": "https://localhost:8080/",
          "height": 758,
          "referenced_widgets": [
            "85253c07639e4801b391ee099f0fc990",
            "0776df1ed4ca48f69d39a73ef1208d7e",
            "f8ba3ec53f6b4ce6a633fe911c731ce0",
            "872063511abd4046ac54dc586e686416",
            "d78c3f0d5f3d433ab70a0b6cfa0e30bf",
            "23ec7bd039ed44759921236e2a5157de",
            "8846c11032b4486c9176bcecd67b5127",
            "0d5606ebd5864dd2be4d3a67ccf763a1"
          ]
        },
        "id": "AP72lcN1ESNP",
        "outputId": "b127f412-e3f9-43ec-dc35-b8216783c515"
      },
      "execution_count": 53,
      "outputs": [
        {
          "output_type": "display_data",
          "data": {
            "text/plain": [
              "Tab(children=(Output(), Output(), Output()), _titles={'0': 'Tab 1: Data Overview', '1': 'Tab 2: Raw Data', '2'…"
            ],
            "application/vnd.jupyter.widget-view+json": {
              "version_major": 2,
              "version_minor": 0,
              "model_id": "85253c07639e4801b391ee099f0fc990"
            }
          },
          "metadata": {}
        }
      ]
    }
  ],
  "metadata": {
    "colab": {
      "provenance": []
    },
    "kernelspec": {
      "display_name": "Python 3",
      "name": "python3"
    },
    "language_info": {
      "name": "python"
    },
    "widgets": {
      "application/vnd.jupyter.widget-state+json": {
        "85253c07639e4801b391ee099f0fc990": {
          "model_module": "@jupyter-widgets/controls",
          "model_name": "TabModel",
          "model_module_version": "1.5.0",
          "state": {
            "_dom_classes": [],
            "_model_module": "@jupyter-widgets/controls",
            "_model_module_version": "1.5.0",
            "_model_name": "TabModel",
            "_titles": {
              "0": "Tab 1: Data Overview",
              "1": "Tab 2: Raw Data",
              "2": "Tab 3: Graph"
            },
            "_view_count": null,
            "_view_module": "@jupyter-widgets/controls",
            "_view_module_version": "1.5.0",
            "_view_name": "TabView",
            "box_style": "",
            "children": [
              "IPY_MODEL_0776df1ed4ca48f69d39a73ef1208d7e",
              "IPY_MODEL_f8ba3ec53f6b4ce6a633fe911c731ce0",
              "IPY_MODEL_872063511abd4046ac54dc586e686416"
            ],
            "layout": "IPY_MODEL_d78c3f0d5f3d433ab70a0b6cfa0e30bf",
            "selected_index": 2
          }
        },
        "0776df1ed4ca48f69d39a73ef1208d7e": {
          "model_module": "@jupyter-widgets/output",
          "model_name": "OutputModel",
          "model_module_version": "1.0.0",
          "state": {
            "_dom_classes": [],
            "_model_module": "@jupyter-widgets/output",
            "_model_module_version": "1.0.0",
            "_model_name": "OutputModel",
            "_view_count": null,
            "_view_module": "@jupyter-widgets/output",
            "_view_module_version": "1.0.0",
            "_view_name": "OutputView",
            "layout": "IPY_MODEL_23ec7bd039ed44759921236e2a5157de",
            "msg_id": "",
            "outputs": [
              {
                "output_type": "stream",
                "name": "stdout",
                "text": [
                  "Data Overview:\n"
                ]
              },
              {
                "output_type": "display_data",
                "data": {
                  "text/plain": "                _id  mispar_rechev    tozeret_cd      degem_cd  \\\ncount  32000.000000   3.200000e+04  32000.000000  32000.000000   \nmean   16000.500000   1.727278e+07    591.956219    426.379937   \nstd     9237.748643   2.295250e+07    241.601258    519.313438   \nmin        1.000000   1.000868e+06     19.000000      1.000000   \n25%     8000.750000   4.298506e+06    413.000000     80.000000   \n50%    16000.500000   7.006113e+06    588.000000    292.000000   \n75%    24000.250000   1.170858e+07    734.000000    570.000000   \nmax    32000.000000   9.363120e+07   1604.000000   8613.000000   \n\n       ramat_eivzur_betihuty  kvutzat_zihum  shnat_yitzur      tzeva_cd  \\\ncount            7441.000000   22338.000000  32000.000000  32000.000000   \nmean                3.452762      12.447354   2011.744688     44.744344   \nstd                 1.579082       4.228322      6.842082     27.749584   \nmin                 1.000000       1.000000   1996.000000      0.000000   \n25%                 3.000000      12.000000   2007.000000     25.000000   \n50%                 3.000000      15.000000   2009.000000     29.000000   \n75%                 4.000000      15.000000   2018.000000     80.000000   \nmax                 8.000000      15.000000   2024.000000     99.000000   \n\n       horaat_rishum  \ncount   10342.000000  \nmean   194679.989847  \nstd     46579.818213  \nmin    100233.000000  \n25%    170008.000000  \n50%    200987.000000  \n75%    211989.000000  \nmax    999998.000000  ",
                  "text/html": "\n  <div id=\"df-e11aacac-d20c-4065-8a8a-8fc5930c9710\" class=\"colab-df-container\">\n    <div>\n<style scoped>\n    .dataframe tbody tr th:only-of-type {\n        vertical-align: middle;\n    }\n\n    .dataframe tbody tr th {\n        vertical-align: top;\n    }\n\n    .dataframe thead th {\n        text-align: right;\n    }\n</style>\n<table border=\"1\" class=\"dataframe\">\n  <thead>\n    <tr style=\"text-align: right;\">\n      <th></th>\n      <th>_id</th>\n      <th>mispar_rechev</th>\n      <th>tozeret_cd</th>\n      <th>degem_cd</th>\n      <th>ramat_eivzur_betihuty</th>\n      <th>kvutzat_zihum</th>\n      <th>shnat_yitzur</th>\n      <th>tzeva_cd</th>\n      <th>horaat_rishum</th>\n    </tr>\n  </thead>\n  <tbody>\n    <tr>\n      <th>count</th>\n      <td>32000.000000</td>\n      <td>3.200000e+04</td>\n      <td>32000.000000</td>\n      <td>32000.000000</td>\n      <td>7441.000000</td>\n      <td>22338.000000</td>\n      <td>32000.000000</td>\n      <td>32000.000000</td>\n      <td>10342.000000</td>\n    </tr>\n    <tr>\n      <th>mean</th>\n      <td>16000.500000</td>\n      <td>1.727278e+07</td>\n      <td>591.956219</td>\n      <td>426.379937</td>\n      <td>3.452762</td>\n      <td>12.447354</td>\n      <td>2011.744688</td>\n      <td>44.744344</td>\n      <td>194679.989847</td>\n    </tr>\n    <tr>\n      <th>std</th>\n      <td>9237.748643</td>\n      <td>2.295250e+07</td>\n      <td>241.601258</td>\n      <td>519.313438</td>\n      <td>1.579082</td>\n      <td>4.228322</td>\n      <td>6.842082</td>\n      <td>27.749584</td>\n      <td>46579.818213</td>\n    </tr>\n    <tr>\n      <th>min</th>\n      <td>1.000000</td>\n      <td>1.000868e+06</td>\n      <td>19.000000</td>\n      <td>1.000000</td>\n      <td>1.000000</td>\n      <td>1.000000</td>\n      <td>1996.000000</td>\n      <td>0.000000</td>\n      <td>100233.000000</td>\n    </tr>\n    <tr>\n      <th>25%</th>\n      <td>8000.750000</td>\n      <td>4.298506e+06</td>\n      <td>413.000000</td>\n      <td>80.000000</td>\n      <td>3.000000</td>\n      <td>12.000000</td>\n      <td>2007.000000</td>\n      <td>25.000000</td>\n      <td>170008.000000</td>\n    </tr>\n    <tr>\n      <th>50%</th>\n      <td>16000.500000</td>\n      <td>7.006113e+06</td>\n      <td>588.000000</td>\n      <td>292.000000</td>\n      <td>3.000000</td>\n      <td>15.000000</td>\n      <td>2009.000000</td>\n      <td>29.000000</td>\n      <td>200987.000000</td>\n    </tr>\n    <tr>\n      <th>75%</th>\n      <td>24000.250000</td>\n      <td>1.170858e+07</td>\n      <td>734.000000</td>\n      <td>570.000000</td>\n      <td>4.000000</td>\n      <td>15.000000</td>\n      <td>2018.000000</td>\n      <td>80.000000</td>\n      <td>211989.000000</td>\n    </tr>\n    <tr>\n      <th>max</th>\n      <td>32000.000000</td>\n      <td>9.363120e+07</td>\n      <td>1604.000000</td>\n      <td>8613.000000</td>\n      <td>8.000000</td>\n      <td>15.000000</td>\n      <td>2024.000000</td>\n      <td>99.000000</td>\n      <td>999998.000000</td>\n    </tr>\n  </tbody>\n</table>\n</div>\n    <div class=\"colab-df-buttons\">\n\n  <div class=\"colab-df-container\">\n    <button class=\"colab-df-convert\" onclick=\"convertToInteractive('df-e11aacac-d20c-4065-8a8a-8fc5930c9710')\"\n            title=\"Convert this dataframe to an interactive table.\"\n            style=\"display:none;\">\n\n  <svg xmlns=\"http://www.w3.org/2000/svg\" height=\"24px\" viewBox=\"0 -960 960 960\">\n    <path d=\"M120-120v-720h720v720H120Zm60-500h600v-160H180v160Zm220 220h160v-160H400v160Zm0 220h160v-160H400v160ZM180-400h160v-160H180v160Zm440 0h160v-160H620v160ZM180-180h160v-160H180v160Zm440 0h160v-160H620v160Z\"/>\n  </svg>\n    </button>\n\n  <style>\n    .colab-df-container {\n      display:flex;\n      gap: 12px;\n    }\n\n    .colab-df-convert {\n      background-color: #E8F0FE;\n      border: none;\n      border-radius: 50%;\n      cursor: pointer;\n      display: none;\n      fill: #1967D2;\n      height: 32px;\n      padding: 0 0 0 0;\n      width: 32px;\n    }\n\n    .colab-df-convert:hover {\n      background-color: #E2EBFA;\n      box-shadow: 0px 1px 2px rgba(60, 64, 67, 0.3), 0px 1px 3px 1px rgba(60, 64, 67, 0.15);\n      fill: #174EA6;\n    }\n\n    .colab-df-buttons div {\n      margin-bottom: 4px;\n    }\n\n    [theme=dark] .colab-df-convert {\n      background-color: #3B4455;\n      fill: #D2E3FC;\n    }\n\n    [theme=dark] .colab-df-convert:hover {\n      background-color: #434B5C;\n      box-shadow: 0px 1px 3px 1px rgba(0, 0, 0, 0.15);\n      filter: drop-shadow(0px 1px 2px rgba(0, 0, 0, 0.3));\n      fill: #FFFFFF;\n    }\n  </style>\n\n    <script>\n      const buttonEl =\n        document.querySelector('#df-e11aacac-d20c-4065-8a8a-8fc5930c9710 button.colab-df-convert');\n      buttonEl.style.display =\n        google.colab.kernel.accessAllowed ? 'block' : 'none';\n\n      async function convertToInteractive(key) {\n        const element = document.querySelector('#df-e11aacac-d20c-4065-8a8a-8fc5930c9710');\n        const dataTable =\n          await google.colab.kernel.invokeFunction('convertToInteractive',\n                                                    [key], {});\n        if (!dataTable) return;\n\n        const docLinkHtml = 'Like what you see? Visit the ' +\n          '<a target=\"_blank\" href=https://colab.research.google.com/notebooks/data_table.ipynb>data table notebook</a>'\n          + ' to learn more about interactive tables.';\n        element.innerHTML = '';\n        dataTable['output_type'] = 'display_data';\n        await google.colab.output.renderOutput(dataTable, element);\n        const docLink = document.createElement('div');\n        docLink.innerHTML = docLinkHtml;\n        element.appendChild(docLink);\n      }\n    </script>\n  </div>\n\n\n<div id=\"df-3ea81e56-b948-4027-91d5-3b50aa0552cd\">\n  <button class=\"colab-df-quickchart\" onclick=\"quickchart('df-3ea81e56-b948-4027-91d5-3b50aa0552cd')\"\n            title=\"Suggest charts\"\n            style=\"display:none;\">\n\n<svg xmlns=\"http://www.w3.org/2000/svg\" height=\"24px\"viewBox=\"0 0 24 24\"\n     width=\"24px\">\n    <g>\n        <path d=\"M19 3H5c-1.1 0-2 .9-2 2v14c0 1.1.9 2 2 2h14c1.1 0 2-.9 2-2V5c0-1.1-.9-2-2-2zM9 17H7v-7h2v7zm4 0h-2V7h2v10zm4 0h-2v-4h2v4z\"/>\n    </g>\n</svg>\n  </button>\n\n<style>\n  .colab-df-quickchart {\n      --bg-color: #E8F0FE;\n      --fill-color: #1967D2;\n      --hover-bg-color: #E2EBFA;\n      --hover-fill-color: #174EA6;\n      --disabled-fill-color: #AAA;\n      --disabled-bg-color: #DDD;\n  }\n\n  [theme=dark] .colab-df-quickchart {\n      --bg-color: #3B4455;\n      --fill-color: #D2E3FC;\n      --hover-bg-color: #434B5C;\n      --hover-fill-color: #FFFFFF;\n      --disabled-bg-color: #3B4455;\n      --disabled-fill-color: #666;\n  }\n\n  .colab-df-quickchart {\n    background-color: var(--bg-color);\n    border: none;\n    border-radius: 50%;\n    cursor: pointer;\n    display: none;\n    fill: var(--fill-color);\n    height: 32px;\n    padding: 0;\n    width: 32px;\n  }\n\n  .colab-df-quickchart:hover {\n    background-color: var(--hover-bg-color);\n    box-shadow: 0 1px 2px rgba(60, 64, 67, 0.3), 0 1px 3px 1px rgba(60, 64, 67, 0.15);\n    fill: var(--button-hover-fill-color);\n  }\n\n  .colab-df-quickchart-complete:disabled,\n  .colab-df-quickchart-complete:disabled:hover {\n    background-color: var(--disabled-bg-color);\n    fill: var(--disabled-fill-color);\n    box-shadow: none;\n  }\n\n  .colab-df-spinner {\n    border: 2px solid var(--fill-color);\n    border-color: transparent;\n    border-bottom-color: var(--fill-color);\n    animation:\n      spin 1s steps(1) infinite;\n  }\n\n  @keyframes spin {\n    0% {\n      border-color: transparent;\n      border-bottom-color: var(--fill-color);\n      border-left-color: var(--fill-color);\n    }\n    20% {\n      border-color: transparent;\n      border-left-color: var(--fill-color);\n      border-top-color: var(--fill-color);\n    }\n    30% {\n      border-color: transparent;\n      border-left-color: var(--fill-color);\n      border-top-color: var(--fill-color);\n      border-right-color: var(--fill-color);\n    }\n    40% {\n      border-color: transparent;\n      border-right-color: var(--fill-color);\n      border-top-color: var(--fill-color);\n    }\n    60% {\n      border-color: transparent;\n      border-right-color: var(--fill-color);\n    }\n    80% {\n      border-color: transparent;\n      border-right-color: var(--fill-color);\n      border-bottom-color: var(--fill-color);\n    }\n    90% {\n      border-color: transparent;\n      border-bottom-color: var(--fill-color);\n    }\n  }\n</style>\n\n  <script>\n    async function quickchart(key) {\n      const quickchartButtonEl =\n        document.querySelector('#' + key + ' button');\n      quickchartButtonEl.disabled = true;  // To prevent multiple clicks.\n      quickchartButtonEl.classList.add('colab-df-spinner');\n      try {\n        const charts = await google.colab.kernel.invokeFunction(\n            'suggestCharts', [key], {});\n      } catch (error) {\n        console.error('Error during call to suggestCharts:', error);\n      }\n      quickchartButtonEl.classList.remove('colab-df-spinner');\n      quickchartButtonEl.classList.add('colab-df-quickchart-complete');\n    }\n    (() => {\n      let quickchartButtonEl =\n        document.querySelector('#df-3ea81e56-b948-4027-91d5-3b50aa0552cd button');\n      quickchartButtonEl.style.display =\n        google.colab.kernel.accessAllowed ? 'block' : 'none';\n    })();\n  </script>\n</div>\n\n    </div>\n  </div>\n",
                  "application/vnd.google.colaboratory.intrinsic+json": {
                    "type": "dataframe",
                    "summary": "{\n  \"name\": \"    display(data_df\",\n  \"rows\": 8,\n  \"fields\": [\n    {\n      \"column\": \"_id\",\n      \"properties\": {\n        \"dtype\": \"number\",\n        \"std\": 11532.650024401897,\n        \"min\": 1.0,\n        \"max\": 32000.0,\n        \"num_unique_values\": 6,\n        \"samples\": [\n          32000.0,\n          16000.5,\n          24000.25\n        ],\n        \"semantic_type\": \"\",\n        \"description\": \"\"\n      }\n    },\n    {\n      \"column\": \"mispar_rechev\",\n      \"properties\": {\n        \"dtype\": \"number\",\n        \"std\": 30893763.928756226,\n        \"min\": 32000.0,\n        \"max\": 93631201.0,\n        \"num_unique_values\": 8,\n        \"samples\": [\n          17272778.61871875,\n          7006113.0,\n          32000.0\n        ],\n        \"semantic_type\": \"\",\n        \"description\": \"\"\n      }\n    },\n    {\n      \"column\": \"tozeret_cd\",\n      \"properties\": {\n        \"dtype\": \"number\",\n        \"std\": 11111.823980782048,\n        \"min\": 19.0,\n        \"max\": 32000.0,\n        \"num_unique_values\": 8,\n        \"samples\": [\n          591.95621875,\n          588.0,\n          32000.0\n        ],\n        \"semantic_type\": \"\",\n        \"description\": \"\"\n      }\n    },\n    {\n      \"column\": \"degem_cd\",\n      \"properties\": {\n        \"dtype\": \"number\",\n        \"std\": 11169.170437473062,\n        \"min\": 1.0,\n        \"max\": 32000.0,\n        \"num_unique_values\": 8,\n        \"samples\": [\n          426.3799375,\n          292.0,\n          32000.0\n        ],\n        \"semantic_type\": \"\",\n        \"description\": \"\"\n      }\n    },\n    {\n      \"column\": \"ramat_eivzur_betihuty\",\n      \"properties\": {\n        \"dtype\": \"number\",\n        \"std\": 2629.57782763443,\n        \"min\": 1.0,\n        \"max\": 7441.0,\n        \"num_unique_values\": 7,\n        \"samples\": [\n          7441.0,\n          3.4527617255745198,\n          4.0\n        ],\n        \"semantic_type\": \"\",\n        \"description\": \"\"\n      }\n    },\n    {\n      \"column\": \"kvutzat_zihum\",\n      \"properties\": {\n        \"dtype\": \"number\",\n        \"std\": 7893.905723012441,\n        \"min\": 1.0,\n        \"max\": 22338.0,\n        \"num_unique_values\": 6,\n        \"samples\": [\n          22338.0,\n          12.447354284179426,\n          15.0\n        ],\n        \"semantic_type\": \"\",\n        \"description\": \"\"\n      }\n    },\n    {\n      \"column\": \"shnat_yitzur\",\n      \"properties\": {\n        \"dtype\": \"number\",\n        \"std\": 10726.902737832732,\n        \"min\": 6.842082356101641,\n        \"max\": 32000.0,\n        \"num_unique_values\": 8,\n        \"samples\": [\n          2011.7446875,\n          2009.0,\n          32000.0\n        ],\n        \"semantic_type\": \"\",\n        \"description\": \"\"\n      }\n    },\n    {\n      \"column\": \"tzeva_cd\",\n      \"properties\": {\n        \"dtype\": \"number\",\n        \"std\": 11298.323654764961,\n        \"min\": 0.0,\n        \"max\": 32000.0,\n        \"num_unique_values\": 8,\n        \"samples\": [\n          44.74434375,\n          29.0,\n          32000.0\n        ],\n        \"semantic_type\": \"\",\n        \"description\": \"\"\n      }\n    },\n    {\n      \"column\": \"horaat_rishum\",\n      \"properties\": {\n        \"dtype\": \"number\",\n        \"std\": 315440.2613646593,\n        \"min\": 10342.0,\n        \"max\": 999998.0,\n        \"num_unique_values\": 8,\n        \"samples\": [\n          194679.9898472249,\n          200987.0,\n          10342.0\n        ],\n        \"semantic_type\": \"\",\n        \"description\": \"\"\n      }\n    }\n  ]\n}"
                  }
                },
                "metadata": {}
              }
            ]
          }
        },
        "f8ba3ec53f6b4ce6a633fe911c731ce0": {
          "model_module": "@jupyter-widgets/output",
          "model_name": "OutputModel",
          "model_module_version": "1.0.0",
          "state": {
            "_dom_classes": [],
            "_model_module": "@jupyter-widgets/output",
            "_model_module_version": "1.0.0",
            "_model_name": "OutputModel",
            "_view_count": null,
            "_view_module": "@jupyter-widgets/output",
            "_view_module_version": "1.0.0",
            "_view_name": "OutputView",
            "layout": "IPY_MODEL_8846c11032b4486c9176bcecd67b5127",
            "msg_id": "",
            "outputs": [
              {
                "output_type": "stream",
                "name": "stdout",
                "text": [
                  "Raw Data:\n"
                ]
              },
              {
                "output_type": "display_data",
                "data": {
                  "text/plain": "         _id  mispar_rechev  tozeret_cd sug_degem      tozeret_nm  degem_cd  \\\n0          1        5847885         885         P      קיה קוריאה       365   \n1          2       60280801         588         P        מזדה יפן       234   \n2          3       69466501         885         P      קיה קוריאה       487   \n3          4        3960766         481         P   יונדאי קוריאה       691   \n4          5        8143078         845         P   יונדאי טורקיה         1   \n...      ...            ...         ...       ...             ...       ...   \n31995  31996        3018778         312         P       הונדה-יפן         1   \n31996  31997       46916601         490         P    טויוטה צ'כיה        23   \n31997  31998        6548876         727         P  פולקסווגן-ספרד       461   \n31998  31999        3449465         590         P    מיצובישי יפן       232   \n31999  32000        6383363         312         P       הונדה-יפן       642   \n\n            degem_nm   ramat_gimur  ramat_eivzur_betihuty  kvutzat_zihum  \\\n0             CC81CG            EX                    1.0            3.0   \n1              GL627        LUXURY                    1.0           13.0   \n2             CB81CG            LX                    1.0            3.0   \n3              BU51B           GLS                    NaN           15.0   \n4              BB51C       INSPIRE                    NaN           14.0   \n...              ...           ...                    ...            ...   \n31995           GP18                                  NaN            4.0   \n31996  KGB40L-AHGGKW             X                    NaN            4.0   \n31997         6R12E7     TRENDLINE                    NaN           14.0   \n31998           NA4W  SPORT PREMIU                    NaN           15.0   \n31999           GD18            LS                    NaN           15.0   \n\n       shnat_yitzur degem_manoa mivchan_acharon_dt    tokef_dt baalut  \\\n0              2017        G4LE         2024-01-29  2025-03-29   פרטי   \n1              2019          PE         2024-06-24  2025-07-09   פרטי   \n2              2019        G4LE         2024-05-19  2025-06-09   סוחר   \n3              2008        G4ED         2024-08-02  2025-08-24   פרטי   \n4              2012        G4FA         2024-08-11  2025-05-01   סוחר   \n...             ...         ...                ...         ...    ...   \n31995          2011        LDA3         2024-07-11  2025-07-12   פרטי   \n31996          2019         1KR         2024-03-13  2025-03-23   פרטי   \n31997          2011         CGG         2024-01-04  2024-12-28   פרטי   \n31998          2008        4G69         2024-01-29  2025-01-30   פרטי   \n31999          2007    L-13-A-1         2023-09-21  2024-09-17   פרטי   \n\n                misgeret  tzeva_cd    tzeva_rechev  zmig_kidmi  zmig_ahori  \\\n0      KNACC81CGH5057178        80        שנהב לבן   205/60R16   205/60R16   \n1      JMZGL6278Z1401863        25             כסף   225/55R17   225/55R17   \n2      KNACB81CGK5293929        25             כסף   205/60R16   205/60R16   \n3      KMHBU51BP8U764536        20            אפור   175/65R14   175/65R14   \n4      NLHBB51CBCZ121770        33            תכלת   175/70R14   175/70R14   \n...                  ...       ...             ...         ...         ...   \n31995  JHMGP1830CS204307        15  אפור בהיר מטלי   175/65R15   175/65R15   \n31996  JTDKGNEC80N431547        80        שנהב לבן   165/60R15   165/60R15   \n31997  WVWZZZ6RZCY515758        29        כסף מטלי   185/60R15   185/60R15   \n31998  JMBLRNA4W8Z000358        66              בז   215/55R17   215/55R17   \n31999  JHMGD18607S225158        10            שחור  175/65/R14  175/65/R14   \n\n      sug_delek_nm  horaat_rishum moed_aliya_lakvish kinuy_mishari  \n0            בנזין       160524.0             2017-3          NIRO  \n1            בנזין       190180.0             2019-7       MAZDA 6  \n2            בנזין       180158.0             2019-6          NIRO  \n3            בנזין            NaN             2008-8          GETZ  \n4            בנזין            NaN             2012-5           I20  \n...            ...            ...                ...           ...  \n31995        בנזין            NaN             2011-7   JAZZ HYBRID  \n31996        בנזין       180280.0             2019-3          AYGO  \n31997        בנזין            NaN            2011-12          POLO  \n31998        בנזין            NaN               None       GRANDIS  \n31999        בנזין            NaN               None          JAZZ  \n\n[32000 rows x 24 columns]",
                  "text/html": "\n  <div id=\"df-7622feb5-c9dd-40c3-a863-438bbbeed1d8\" class=\"colab-df-container\">\n    <div>\n<style scoped>\n    .dataframe tbody tr th:only-of-type {\n        vertical-align: middle;\n    }\n\n    .dataframe tbody tr th {\n        vertical-align: top;\n    }\n\n    .dataframe thead th {\n        text-align: right;\n    }\n</style>\n<table border=\"1\" class=\"dataframe\">\n  <thead>\n    <tr style=\"text-align: right;\">\n      <th></th>\n      <th>_id</th>\n      <th>mispar_rechev</th>\n      <th>tozeret_cd</th>\n      <th>sug_degem</th>\n      <th>tozeret_nm</th>\n      <th>degem_cd</th>\n      <th>degem_nm</th>\n      <th>ramat_gimur</th>\n      <th>ramat_eivzur_betihuty</th>\n      <th>kvutzat_zihum</th>\n      <th>shnat_yitzur</th>\n      <th>degem_manoa</th>\n      <th>mivchan_acharon_dt</th>\n      <th>tokef_dt</th>\n      <th>baalut</th>\n      <th>misgeret</th>\n      <th>tzeva_cd</th>\n      <th>tzeva_rechev</th>\n      <th>zmig_kidmi</th>\n      <th>zmig_ahori</th>\n      <th>sug_delek_nm</th>\n      <th>horaat_rishum</th>\n      <th>moed_aliya_lakvish</th>\n      <th>kinuy_mishari</th>\n    </tr>\n  </thead>\n  <tbody>\n    <tr>\n      <th>0</th>\n      <td>1</td>\n      <td>5847885</td>\n      <td>885</td>\n      <td>P</td>\n      <td>קיה קוריאה</td>\n      <td>365</td>\n      <td>CC81CG</td>\n      <td>EX</td>\n      <td>1.0</td>\n      <td>3.0</td>\n      <td>2017</td>\n      <td>G4LE</td>\n      <td>2024-01-29</td>\n      <td>2025-03-29</td>\n      <td>פרטי</td>\n      <td>KNACC81CGH5057178</td>\n      <td>80</td>\n      <td>שנהב לבן</td>\n      <td>205/60R16</td>\n      <td>205/60R16</td>\n      <td>בנזין</td>\n      <td>160524.0</td>\n      <td>2017-3</td>\n      <td>NIRO</td>\n    </tr>\n    <tr>\n      <th>1</th>\n      <td>2</td>\n      <td>60280801</td>\n      <td>588</td>\n      <td>P</td>\n      <td>מזדה יפן</td>\n      <td>234</td>\n      <td>GL627</td>\n      <td>LUXURY</td>\n      <td>1.0</td>\n      <td>13.0</td>\n      <td>2019</td>\n      <td>PE</td>\n      <td>2024-06-24</td>\n      <td>2025-07-09</td>\n      <td>פרטי</td>\n      <td>JMZGL6278Z1401863</td>\n      <td>25</td>\n      <td>כסף</td>\n      <td>225/55R17</td>\n      <td>225/55R17</td>\n      <td>בנזין</td>\n      <td>190180.0</td>\n      <td>2019-7</td>\n      <td>MAZDA 6</td>\n    </tr>\n    <tr>\n      <th>2</th>\n      <td>3</td>\n      <td>69466501</td>\n      <td>885</td>\n      <td>P</td>\n      <td>קיה קוריאה</td>\n      <td>487</td>\n      <td>CB81CG</td>\n      <td>LX</td>\n      <td>1.0</td>\n      <td>3.0</td>\n      <td>2019</td>\n      <td>G4LE</td>\n      <td>2024-05-19</td>\n      <td>2025-06-09</td>\n      <td>סוחר</td>\n      <td>KNACB81CGK5293929</td>\n      <td>25</td>\n      <td>כסף</td>\n      <td>205/60R16</td>\n      <td>205/60R16</td>\n      <td>בנזין</td>\n      <td>180158.0</td>\n      <td>2019-6</td>\n      <td>NIRO</td>\n    </tr>\n    <tr>\n      <th>3</th>\n      <td>4</td>\n      <td>3960766</td>\n      <td>481</td>\n      <td>P</td>\n      <td>יונדאי קוריאה</td>\n      <td>691</td>\n      <td>BU51B</td>\n      <td>GLS</td>\n      <td>NaN</td>\n      <td>15.0</td>\n      <td>2008</td>\n      <td>G4ED</td>\n      <td>2024-08-02</td>\n      <td>2025-08-24</td>\n      <td>פרטי</td>\n      <td>KMHBU51BP8U764536</td>\n      <td>20</td>\n      <td>אפור</td>\n      <td>175/65R14</td>\n      <td>175/65R14</td>\n      <td>בנזין</td>\n      <td>NaN</td>\n      <td>2008-8</td>\n      <td>GETZ</td>\n    </tr>\n    <tr>\n      <th>4</th>\n      <td>5</td>\n      <td>8143078</td>\n      <td>845</td>\n      <td>P</td>\n      <td>יונדאי טורקיה</td>\n      <td>1</td>\n      <td>BB51C</td>\n      <td>INSPIRE</td>\n      <td>NaN</td>\n      <td>14.0</td>\n      <td>2012</td>\n      <td>G4FA</td>\n      <td>2024-08-11</td>\n      <td>2025-05-01</td>\n      <td>סוחר</td>\n      <td>NLHBB51CBCZ121770</td>\n      <td>33</td>\n      <td>תכלת</td>\n      <td>175/70R14</td>\n      <td>175/70R14</td>\n      <td>בנזין</td>\n      <td>NaN</td>\n      <td>2012-5</td>\n      <td>I20</td>\n    </tr>\n    <tr>\n      <th>...</th>\n      <td>...</td>\n      <td>...</td>\n      <td>...</td>\n      <td>...</td>\n      <td>...</td>\n      <td>...</td>\n      <td>...</td>\n      <td>...</td>\n      <td>...</td>\n      <td>...</td>\n      <td>...</td>\n      <td>...</td>\n      <td>...</td>\n      <td>...</td>\n      <td>...</td>\n      <td>...</td>\n      <td>...</td>\n      <td>...</td>\n      <td>...</td>\n      <td>...</td>\n      <td>...</td>\n      <td>...</td>\n      <td>...</td>\n      <td>...</td>\n    </tr>\n    <tr>\n      <th>31995</th>\n      <td>31996</td>\n      <td>3018778</td>\n      <td>312</td>\n      <td>P</td>\n      <td>הונדה-יפן</td>\n      <td>1</td>\n      <td>GP18</td>\n      <td></td>\n      <td>NaN</td>\n      <td>4.0</td>\n      <td>2011</td>\n      <td>LDA3</td>\n      <td>2024-07-11</td>\n      <td>2025-07-12</td>\n      <td>פרטי</td>\n      <td>JHMGP1830CS204307</td>\n      <td>15</td>\n      <td>אפור בהיר מטלי</td>\n      <td>175/65R15</td>\n      <td>175/65R15</td>\n      <td>בנזין</td>\n      <td>NaN</td>\n      <td>2011-7</td>\n      <td>JAZZ HYBRID</td>\n    </tr>\n    <tr>\n      <th>31996</th>\n      <td>31997</td>\n      <td>46916601</td>\n      <td>490</td>\n      <td>P</td>\n      <td>טויוטה צ'כיה</td>\n      <td>23</td>\n      <td>KGB40L-AHGGKW</td>\n      <td>X</td>\n      <td>NaN</td>\n      <td>4.0</td>\n      <td>2019</td>\n      <td>1KR</td>\n      <td>2024-03-13</td>\n      <td>2025-03-23</td>\n      <td>פרטי</td>\n      <td>JTDKGNEC80N431547</td>\n      <td>80</td>\n      <td>שנהב לבן</td>\n      <td>165/60R15</td>\n      <td>165/60R15</td>\n      <td>בנזין</td>\n      <td>180280.0</td>\n      <td>2019-3</td>\n      <td>AYGO</td>\n    </tr>\n    <tr>\n      <th>31997</th>\n      <td>31998</td>\n      <td>6548876</td>\n      <td>727</td>\n      <td>P</td>\n      <td>פולקסווגן-ספרד</td>\n      <td>461</td>\n      <td>6R12E7</td>\n      <td>TRENDLINE</td>\n      <td>NaN</td>\n      <td>14.0</td>\n      <td>2011</td>\n      <td>CGG</td>\n      <td>2024-01-04</td>\n      <td>2024-12-28</td>\n      <td>פרטי</td>\n      <td>WVWZZZ6RZCY515758</td>\n      <td>29</td>\n      <td>כסף מטלי</td>\n      <td>185/60R15</td>\n      <td>185/60R15</td>\n      <td>בנזין</td>\n      <td>NaN</td>\n      <td>2011-12</td>\n      <td>POLO</td>\n    </tr>\n    <tr>\n      <th>31998</th>\n      <td>31999</td>\n      <td>3449465</td>\n      <td>590</td>\n      <td>P</td>\n      <td>מיצובישי יפן</td>\n      <td>232</td>\n      <td>NA4W</td>\n      <td>SPORT PREMIU</td>\n      <td>NaN</td>\n      <td>15.0</td>\n      <td>2008</td>\n      <td>4G69</td>\n      <td>2024-01-29</td>\n      <td>2025-01-30</td>\n      <td>פרטי</td>\n      <td>JMBLRNA4W8Z000358</td>\n      <td>66</td>\n      <td>בז</td>\n      <td>215/55R17</td>\n      <td>215/55R17</td>\n      <td>בנזין</td>\n      <td>NaN</td>\n      <td>None</td>\n      <td>GRANDIS</td>\n    </tr>\n    <tr>\n      <th>31999</th>\n      <td>32000</td>\n      <td>6383363</td>\n      <td>312</td>\n      <td>P</td>\n      <td>הונדה-יפן</td>\n      <td>642</td>\n      <td>GD18</td>\n      <td>LS</td>\n      <td>NaN</td>\n      <td>15.0</td>\n      <td>2007</td>\n      <td>L-13-A-1</td>\n      <td>2023-09-21</td>\n      <td>2024-09-17</td>\n      <td>פרטי</td>\n      <td>JHMGD18607S225158</td>\n      <td>10</td>\n      <td>שחור</td>\n      <td>175/65/R14</td>\n      <td>175/65/R14</td>\n      <td>בנזין</td>\n      <td>NaN</td>\n      <td>None</td>\n      <td>JAZZ</td>\n    </tr>\n  </tbody>\n</table>\n<p>32000 rows × 24 columns</p>\n</div>\n    <div class=\"colab-df-buttons\">\n\n  <div class=\"colab-df-container\">\n    <button class=\"colab-df-convert\" onclick=\"convertToInteractive('df-7622feb5-c9dd-40c3-a863-438bbbeed1d8')\"\n            title=\"Convert this dataframe to an interactive table.\"\n            style=\"display:none;\">\n\n  <svg xmlns=\"http://www.w3.org/2000/svg\" height=\"24px\" viewBox=\"0 -960 960 960\">\n    <path d=\"M120-120v-720h720v720H120Zm60-500h600v-160H180v160Zm220 220h160v-160H400v160Zm0 220h160v-160H400v160ZM180-400h160v-160H180v160Zm440 0h160v-160H620v160ZM180-180h160v-160H180v160Zm440 0h160v-160H620v160Z\"/>\n  </svg>\n    </button>\n\n  <style>\n    .colab-df-container {\n      display:flex;\n      gap: 12px;\n    }\n\n    .colab-df-convert {\n      background-color: #E8F0FE;\n      border: none;\n      border-radius: 50%;\n      cursor: pointer;\n      display: none;\n      fill: #1967D2;\n      height: 32px;\n      padding: 0 0 0 0;\n      width: 32px;\n    }\n\n    .colab-df-convert:hover {\n      background-color: #E2EBFA;\n      box-shadow: 0px 1px 2px rgba(60, 64, 67, 0.3), 0px 1px 3px 1px rgba(60, 64, 67, 0.15);\n      fill: #174EA6;\n    }\n\n    .colab-df-buttons div {\n      margin-bottom: 4px;\n    }\n\n    [theme=dark] .colab-df-convert {\n      background-color: #3B4455;\n      fill: #D2E3FC;\n    }\n\n    [theme=dark] .colab-df-convert:hover {\n      background-color: #434B5C;\n      box-shadow: 0px 1px 3px 1px rgba(0, 0, 0, 0.15);\n      filter: drop-shadow(0px 1px 2px rgba(0, 0, 0, 0.3));\n      fill: #FFFFFF;\n    }\n  </style>\n\n    <script>\n      const buttonEl =\n        document.querySelector('#df-7622feb5-c9dd-40c3-a863-438bbbeed1d8 button.colab-df-convert');\n      buttonEl.style.display =\n        google.colab.kernel.accessAllowed ? 'block' : 'none';\n\n      async function convertToInteractive(key) {\n        const element = document.querySelector('#df-7622feb5-c9dd-40c3-a863-438bbbeed1d8');\n        const dataTable =\n          await google.colab.kernel.invokeFunction('convertToInteractive',\n                                                    [key], {});\n        if (!dataTable) return;\n\n        const docLinkHtml = 'Like what you see? Visit the ' +\n          '<a target=\"_blank\" href=https://colab.research.google.com/notebooks/data_table.ipynb>data table notebook</a>'\n          + ' to learn more about interactive tables.';\n        element.innerHTML = '';\n        dataTable['output_type'] = 'display_data';\n        await google.colab.output.renderOutput(dataTable, element);\n        const docLink = document.createElement('div');\n        docLink.innerHTML = docLinkHtml;\n        element.appendChild(docLink);\n      }\n    </script>\n  </div>\n\n\n<div id=\"df-5b04efdb-bee4-42a3-b3d7-c6f5dc33c8fd\">\n  <button class=\"colab-df-quickchart\" onclick=\"quickchart('df-5b04efdb-bee4-42a3-b3d7-c6f5dc33c8fd')\"\n            title=\"Suggest charts\"\n            style=\"display:none;\">\n\n<svg xmlns=\"http://www.w3.org/2000/svg\" height=\"24px\"viewBox=\"0 0 24 24\"\n     width=\"24px\">\n    <g>\n        <path d=\"M19 3H5c-1.1 0-2 .9-2 2v14c0 1.1.9 2 2 2h14c1.1 0 2-.9 2-2V5c0-1.1-.9-2-2-2zM9 17H7v-7h2v7zm4 0h-2V7h2v10zm4 0h-2v-4h2v4z\"/>\n    </g>\n</svg>\n  </button>\n\n<style>\n  .colab-df-quickchart {\n      --bg-color: #E8F0FE;\n      --fill-color: #1967D2;\n      --hover-bg-color: #E2EBFA;\n      --hover-fill-color: #174EA6;\n      --disabled-fill-color: #AAA;\n      --disabled-bg-color: #DDD;\n  }\n\n  [theme=dark] .colab-df-quickchart {\n      --bg-color: #3B4455;\n      --fill-color: #D2E3FC;\n      --hover-bg-color: #434B5C;\n      --hover-fill-color: #FFFFFF;\n      --disabled-bg-color: #3B4455;\n      --disabled-fill-color: #666;\n  }\n\n  .colab-df-quickchart {\n    background-color: var(--bg-color);\n    border: none;\n    border-radius: 50%;\n    cursor: pointer;\n    display: none;\n    fill: var(--fill-color);\n    height: 32px;\n    padding: 0;\n    width: 32px;\n  }\n\n  .colab-df-quickchart:hover {\n    background-color: var(--hover-bg-color);\n    box-shadow: 0 1px 2px rgba(60, 64, 67, 0.3), 0 1px 3px 1px rgba(60, 64, 67, 0.15);\n    fill: var(--button-hover-fill-color);\n  }\n\n  .colab-df-quickchart-complete:disabled,\n  .colab-df-quickchart-complete:disabled:hover {\n    background-color: var(--disabled-bg-color);\n    fill: var(--disabled-fill-color);\n    box-shadow: none;\n  }\n\n  .colab-df-spinner {\n    border: 2px solid var(--fill-color);\n    border-color: transparent;\n    border-bottom-color: var(--fill-color);\n    animation:\n      spin 1s steps(1) infinite;\n  }\n\n  @keyframes spin {\n    0% {\n      border-color: transparent;\n      border-bottom-color: var(--fill-color);\n      border-left-color: var(--fill-color);\n    }\n    20% {\n      border-color: transparent;\n      border-left-color: var(--fill-color);\n      border-top-color: var(--fill-color);\n    }\n    30% {\n      border-color: transparent;\n      border-left-color: var(--fill-color);\n      border-top-color: var(--fill-color);\n      border-right-color: var(--fill-color);\n    }\n    40% {\n      border-color: transparent;\n      border-right-color: var(--fill-color);\n      border-top-color: var(--fill-color);\n    }\n    60% {\n      border-color: transparent;\n      border-right-color: var(--fill-color);\n    }\n    80% {\n      border-color: transparent;\n      border-right-color: var(--fill-color);\n      border-bottom-color: var(--fill-color);\n    }\n    90% {\n      border-color: transparent;\n      border-bottom-color: var(--fill-color);\n    }\n  }\n</style>\n\n  <script>\n    async function quickchart(key) {\n      const quickchartButtonEl =\n        document.querySelector('#' + key + ' button');\n      quickchartButtonEl.disabled = true;  // To prevent multiple clicks.\n      quickchartButtonEl.classList.add('colab-df-spinner');\n      try {\n        const charts = await google.colab.kernel.invokeFunction(\n            'suggestCharts', [key], {});\n      } catch (error) {\n        console.error('Error during call to suggestCharts:', error);\n      }\n      quickchartButtonEl.classList.remove('colab-df-spinner');\n      quickchartButtonEl.classList.add('colab-df-quickchart-complete');\n    }\n    (() => {\n      let quickchartButtonEl =\n        document.querySelector('#df-5b04efdb-bee4-42a3-b3d7-c6f5dc33c8fd button');\n      quickchartButtonEl.style.display =\n        google.colab.kernel.accessAllowed ? 'block' : 'none';\n    })();\n  </script>\n</div>\n\n  <div id=\"id_6745a135-f3e2-48dd-8d7a-54ea786339a4\">\n    <style>\n      .colab-df-generate {\n        background-color: #E8F0FE;\n        border: none;\n        border-radius: 50%;\n        cursor: pointer;\n        display: none;\n        fill: #1967D2;\n        height: 32px;\n        padding: 0 0 0 0;\n        width: 32px;\n      }\n\n      .colab-df-generate:hover {\n        background-color: #E2EBFA;\n        box-shadow: 0px 1px 2px rgba(60, 64, 67, 0.3), 0px 1px 3px 1px rgba(60, 64, 67, 0.15);\n        fill: #174EA6;\n      }\n\n      [theme=dark] .colab-df-generate {\n        background-color: #3B4455;\n        fill: #D2E3FC;\n      }\n\n      [theme=dark] .colab-df-generate:hover {\n        background-color: #434B5C;\n        box-shadow: 0px 1px 3px 1px rgba(0, 0, 0, 0.15);\n        filter: drop-shadow(0px 1px 2px rgba(0, 0, 0, 0.3));\n        fill: #FFFFFF;\n      }\n    </style>\n    <button class=\"colab-df-generate\" onclick=\"generateWithVariable('data_df')\"\n            title=\"Generate code using this dataframe.\"\n            style=\"display:none;\">\n\n  <svg xmlns=\"http://www.w3.org/2000/svg\" height=\"24px\"viewBox=\"0 0 24 24\"\n       width=\"24px\">\n    <path d=\"M7,19H8.4L18.45,9,17,7.55,7,17.6ZM5,21V16.75L18.45,3.32a2,2,0,0,1,2.83,0l1.4,1.43a1.91,1.91,0,0,1,.58,1.4,1.91,1.91,0,0,1-.58,1.4L9.25,21ZM18.45,9,17,7.55Zm-12,3A5.31,5.31,0,0,0,4.9,8.1,5.31,5.31,0,0,0,1,6.5,5.31,5.31,0,0,0,4.9,4.9,5.31,5.31,0,0,0,6.5,1,5.31,5.31,0,0,0,8.1,4.9,5.31,5.31,0,0,0,12,6.5,5.46,5.46,0,0,0,6.5,12Z\"/>\n  </svg>\n    </button>\n    <script>\n      (() => {\n      const buttonEl =\n        document.querySelector('#id_6745a135-f3e2-48dd-8d7a-54ea786339a4 button.colab-df-generate');\n      buttonEl.style.display =\n        google.colab.kernel.accessAllowed ? 'block' : 'none';\n\n      buttonEl.onclick = () => {\n        google.colab.notebook.generateWithVariable('data_df');\n      }\n      })();\n    </script>\n  </div>\n\n    </div>\n  </div>\n",
                  "application/vnd.google.colaboratory.intrinsic+json": {
                    "type": "dataframe",
                    "variable_name": "data_df"
                  }
                },
                "metadata": {}
              }
            ]
          }
        },
        "872063511abd4046ac54dc586e686416": {
          "model_module": "@jupyter-widgets/output",
          "model_name": "OutputModel",
          "model_module_version": "1.0.0",
          "state": {
            "_dom_classes": [],
            "_model_module": "@jupyter-widgets/output",
            "_model_module_version": "1.0.0",
            "_model_name": "OutputModel",
            "_view_count": null,
            "_view_module": "@jupyter-widgets/output",
            "_view_module_version": "1.0.0",
            "_view_name": "OutputView",
            "layout": "IPY_MODEL_0d5606ebd5864dd2be4d3a67ccf763a1",
            "msg_id": "",
            "outputs": [
              {
                "output_type": "stream",
                "name": "stdout",
                "text": [
                  "Different cars per year:\n"
                ]
              },
              {
                "output_type": "display_data",
                "data": {
                  "text/plain": "<Figure size 640x480 with 0 Axes>"
                },
                "metadata": {}
              },
              {
                "output_type": "display_data",
                "data": {
                  "text/plain": "<Figure size 1000x800 with 1 Axes>",
                  "image/png": "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\n"
                },
                "metadata": {}
              }
            ]
          }
        },
        "d78c3f0d5f3d433ab70a0b6cfa0e30bf": {
          "model_module": "@jupyter-widgets/base",
          "model_name": "LayoutModel",
          "model_module_version": "1.2.0",
          "state": {
            "_model_module": "@jupyter-widgets/base",
            "_model_module_version": "1.2.0",
            "_model_name": "LayoutModel",
            "_view_count": null,
            "_view_module": "@jupyter-widgets/base",
            "_view_module_version": "1.2.0",
            "_view_name": "LayoutView",
            "align_content": null,
            "align_items": null,
            "align_self": null,
            "border": null,
            "bottom": null,
            "display": null,
            "flex": null,
            "flex_flow": null,
            "grid_area": null,
            "grid_auto_columns": null,
            "grid_auto_flow": null,
            "grid_auto_rows": null,
            "grid_column": null,
            "grid_gap": null,
            "grid_row": null,
            "grid_template_areas": null,
            "grid_template_columns": null,
            "grid_template_rows": null,
            "height": null,
            "justify_content": null,
            "justify_items": null,
            "left": null,
            "margin": null,
            "max_height": null,
            "max_width": null,
            "min_height": null,
            "min_width": null,
            "object_fit": null,
            "object_position": null,
            "order": null,
            "overflow": null,
            "overflow_x": null,
            "overflow_y": null,
            "padding": null,
            "right": null,
            "top": null,
            "visibility": null,
            "width": null
          }
        },
        "23ec7bd039ed44759921236e2a5157de": {
          "model_module": "@jupyter-widgets/base",
          "model_name": "LayoutModel",
          "model_module_version": "1.2.0",
          "state": {
            "_model_module": "@jupyter-widgets/base",
            "_model_module_version": "1.2.0",
            "_model_name": "LayoutModel",
            "_view_count": null,
            "_view_module": "@jupyter-widgets/base",
            "_view_module_version": "1.2.0",
            "_view_name": "LayoutView",
            "align_content": null,
            "align_items": null,
            "align_self": null,
            "border": null,
            "bottom": null,
            "display": null,
            "flex": null,
            "flex_flow": null,
            "grid_area": null,
            "grid_auto_columns": null,
            "grid_auto_flow": null,
            "grid_auto_rows": null,
            "grid_column": null,
            "grid_gap": null,
            "grid_row": null,
            "grid_template_areas": null,
            "grid_template_columns": null,
            "grid_template_rows": null,
            "height": null,
            "justify_content": null,
            "justify_items": null,
            "left": null,
            "margin": null,
            "max_height": null,
            "max_width": null,
            "min_height": null,
            "min_width": null,
            "object_fit": null,
            "object_position": null,
            "order": null,
            "overflow": null,
            "overflow_x": null,
            "overflow_y": null,
            "padding": null,
            "right": null,
            "top": null,
            "visibility": null,
            "width": null
          }
        },
        "8846c11032b4486c9176bcecd67b5127": {
          "model_module": "@jupyter-widgets/base",
          "model_name": "LayoutModel",
          "model_module_version": "1.2.0",
          "state": {
            "_model_module": "@jupyter-widgets/base",
            "_model_module_version": "1.2.0",
            "_model_name": "LayoutModel",
            "_view_count": null,
            "_view_module": "@jupyter-widgets/base",
            "_view_module_version": "1.2.0",
            "_view_name": "LayoutView",
            "align_content": null,
            "align_items": null,
            "align_self": null,
            "border": null,
            "bottom": null,
            "display": null,
            "flex": null,
            "flex_flow": null,
            "grid_area": null,
            "grid_auto_columns": null,
            "grid_auto_flow": null,
            "grid_auto_rows": null,
            "grid_column": null,
            "grid_gap": null,
            "grid_row": null,
            "grid_template_areas": null,
            "grid_template_columns": null,
            "grid_template_rows": null,
            "height": null,
            "justify_content": null,
            "justify_items": null,
            "left": null,
            "margin": null,
            "max_height": null,
            "max_width": null,
            "min_height": null,
            "min_width": null,
            "object_fit": null,
            "object_position": null,
            "order": null,
            "overflow": null,
            "overflow_x": null,
            "overflow_y": null,
            "padding": null,
            "right": null,
            "top": null,
            "visibility": null,
            "width": null
          }
        },
        "0d5606ebd5864dd2be4d3a67ccf763a1": {
          "model_module": "@jupyter-widgets/base",
          "model_name": "LayoutModel",
          "model_module_version": "1.2.0",
          "state": {
            "_model_module": "@jupyter-widgets/base",
            "_model_module_version": "1.2.0",
            "_model_name": "LayoutModel",
            "_view_count": null,
            "_view_module": "@jupyter-widgets/base",
            "_view_module_version": "1.2.0",
            "_view_name": "LayoutView",
            "align_content": null,
            "align_items": null,
            "align_self": null,
            "border": null,
            "bottom": null,
            "display": null,
            "flex": null,
            "flex_flow": null,
            "grid_area": null,
            "grid_auto_columns": null,
            "grid_auto_flow": null,
            "grid_auto_rows": null,
            "grid_column": null,
            "grid_gap": null,
            "grid_row": null,
            "grid_template_areas": null,
            "grid_template_columns": null,
            "grid_template_rows": null,
            "height": null,
            "justify_content": null,
            "justify_items": null,
            "left": null,
            "margin": null,
            "max_height": null,
            "max_width": null,
            "min_height": null,
            "min_width": null,
            "object_fit": null,
            "object_position": null,
            "order": null,
            "overflow": null,
            "overflow_x": null,
            "overflow_y": null,
            "padding": null,
            "right": null,
            "top": null,
            "visibility": null,
            "width": null
          }
        }
      }
    }
  },
  "nbformat": 4,
  "nbformat_minor": 0
}