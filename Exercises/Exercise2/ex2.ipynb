{
  "nbformat": 4,
  "nbformat_minor": 0,
  "metadata": {
    "colab": {
      "provenance": []
    },
    "kernelspec": {
      "name": "python3",
      "display_name": "Python 3"
    },
    "language_info": {
      "name": "python"
    },
    "widgets": {
      "application/vnd.jupyter.widget-state+json": {
        "6e08cd0c612d483eae777639310cf0cc": {
          "model_module": "@jupyter-widgets/controls",
          "model_name": "VBoxModel",
          "model_module_version": "1.5.0",
          "state": {
            "_dom_classes": [],
            "_model_module": "@jupyter-widgets/controls",
            "_model_module_version": "1.5.0",
            "_model_name": "VBoxModel",
            "_view_count": null,
            "_view_module": "@jupyter-widgets/controls",
            "_view_module_version": "1.5.0",
            "_view_name": "VBoxView",
            "box_style": "",
            "children": [
              "IPY_MODEL_232583e0cd24468ca292bb08e84e8a24",
              "IPY_MODEL_001a59671ee44c12a116e35b3bce39d2",
              "IPY_MODEL_9c316ae26db74162be496fc88bf6ca81",
              "IPY_MODEL_5c8335edb2c94d7d85b89bff39045511",
              "IPY_MODEL_37b8c2a5c761434c802b57db2f70dad5",
              "IPY_MODEL_fce2c047fcb94991b17b4fe97ebbe3cf",
              "IPY_MODEL_fd0d2ce3fc2940038b4140f8666bba33"
            ],
            "layout": "IPY_MODEL_4b6d717641da4658b95941380f8485ea"
          }
        },
        "232583e0cd24468ca292bb08e84e8a24": {
          "model_module": "@jupyter-widgets/controls",
          "model_name": "DropdownModel",
          "model_module_version": "1.5.0",
          "state": {
            "_dom_classes": [],
            "_model_module": "@jupyter-widgets/controls",
            "_model_module_version": "1.5.0",
            "_model_name": "DropdownModel",
            "_options_labels": [
              "Select a student",
              "israel",
              "Kfir",
              "Shahar",
              "Shlomi",
              "Omer",
              "Vladi"
            ],
            "_view_count": null,
            "_view_module": "@jupyter-widgets/controls",
            "_view_module_version": "1.5.0",
            "_view_name": "DropdownView",
            "description": "Student: ",
            "description_tooltip": null,
            "disabled": false,
            "index": 2,
            "layout": "IPY_MODEL_9ba68b9655aa4f4796497ad1dd8056fe",
            "style": "IPY_MODEL_4af1e53f038b41608ac79db725336912"
          }
        },
        "001a59671ee44c12a116e35b3bce39d2": {
          "model_module": "@jupyter-widgets/controls",
          "model_name": "TextModel",
          "model_module_version": "1.5.0",
          "state": {
            "_dom_classes": [],
            "_model_module": "@jupyter-widgets/controls",
            "_model_module_version": "1.5.0",
            "_model_name": "TextModel",
            "_view_count": null,
            "_view_module": "@jupyter-widgets/controls",
            "_view_module_version": "1.5.0",
            "_view_name": "TextView",
            "continuous_update": true,
            "description": "First Name: ",
            "description_tooltip": null,
            "disabled": true,
            "layout": "IPY_MODEL_9ba68b9655aa4f4796497ad1dd8056fe",
            "placeholder": "​",
            "style": "IPY_MODEL_fb435005aa724d4fbe7ce8fd2923b950",
            "value": "Kfir"
          }
        },
        "9c316ae26db74162be496fc88bf6ca81": {
          "model_module": "@jupyter-widgets/controls",
          "model_name": "TextModel",
          "model_module_version": "1.5.0",
          "state": {
            "_dom_classes": [],
            "_model_module": "@jupyter-widgets/controls",
            "_model_module_version": "1.5.0",
            "_model_name": "TextModel",
            "_view_count": null,
            "_view_module": "@jupyter-widgets/controls",
            "_view_module_version": "1.5.0",
            "_view_name": "TextView",
            "continuous_update": true,
            "description": "Last Name: ",
            "description_tooltip": null,
            "disabled": true,
            "layout": "IPY_MODEL_9ba68b9655aa4f4796497ad1dd8056fe",
            "placeholder": "​",
            "style": "IPY_MODEL_de43ed52400141748f41f22e2793a166",
            "value": "Amoyal"
          }
        },
        "5c8335edb2c94d7d85b89bff39045511": {
          "model_module": "@jupyter-widgets/controls",
          "model_name": "TextModel",
          "model_module_version": "1.5.0",
          "state": {
            "_dom_classes": [],
            "_model_module": "@jupyter-widgets/controls",
            "_model_module_version": "1.5.0",
            "_model_name": "TextModel",
            "_view_count": null,
            "_view_module": "@jupyter-widgets/controls",
            "_view_module_version": "1.5.0",
            "_view_name": "TextView",
            "continuous_update": true,
            "description": "Mail: ",
            "description_tooltip": null,
            "disabled": true,
            "layout": "IPY_MODEL_9ba68b9655aa4f4796497ad1dd8056fe",
            "placeholder": "​",
            "style": "IPY_MODEL_d96cadbd05a14955a1743cfe6dca7a91",
            "value": "kfiramoyal@gmail.com"
          }
        },
        "37b8c2a5c761434c802b57db2f70dad5": {
          "model_module": "@jupyter-widgets/controls",
          "model_name": "TextModel",
          "model_module_version": "1.5.0",
          "state": {
            "_dom_classes": [],
            "_model_module": "@jupyter-widgets/controls",
            "_model_module_version": "1.5.0",
            "_model_name": "TextModel",
            "_view_count": null,
            "_view_module": "@jupyter-widgets/controls",
            "_view_module_version": "1.5.0",
            "_view_name": "TextView",
            "continuous_update": true,
            "description": "Courses: ",
            "description_tooltip": null,
            "disabled": true,
            "layout": "IPY_MODEL_9ba68b9655aa4f4796497ad1dd8056fe",
            "placeholder": "​",
            "style": "IPY_MODEL_2915fba2252247a982134220ab48757e",
            "value": "['History', 'Math', 'Programming']"
          }
        },
        "fce2c047fcb94991b17b4fe97ebbe3cf": {
          "model_module": "@jupyter-widgets/controls",
          "model_name": "TextModel",
          "model_module_version": "1.5.0",
          "state": {
            "_dom_classes": [],
            "_model_module": "@jupyter-widgets/controls",
            "_model_module_version": "1.5.0",
            "_model_name": "TextModel",
            "_view_count": null,
            "_view_module": "@jupyter-widgets/controls",
            "_view_module_version": "1.5.0",
            "_view_name": "TextView",
            "continuous_update": true,
            "description": "Courses: ",
            "description_tooltip": null,
            "disabled": true,
            "layout": "IPY_MODEL_9ba68b9655aa4f4796497ad1dd8056fe",
            "placeholder": "​",
            "style": "IPY_MODEL_8c6cf24c8c6445da9474dc5723983b9a",
            "value": "http://youtube.com"
          }
        },
        "fd0d2ce3fc2940038b4140f8666bba33": {
          "model_module": "@jupyter-widgets/controls",
          "model_name": "TextModel",
          "model_module_version": "1.5.0",
          "state": {
            "_dom_classes": [],
            "_model_module": "@jupyter-widgets/controls",
            "_model_module_version": "1.5.0",
            "_model_name": "TextModel",
            "_view_count": null,
            "_view_module": "@jupyter-widgets/controls",
            "_view_module_version": "1.5.0",
            "_view_name": "TextView",
            "continuous_update": true,
            "description": "favorite series: ",
            "description_tooltip": null,
            "disabled": false,
            "layout": "IPY_MODEL_9ba68b9655aa4f4796497ad1dd8056fe",
            "placeholder": "​",
            "style": "IPY_MODEL_9e352b2618ca41bab0d0800300efa878",
            "value": "Sponb bob"
          }
        },
        "4b6d717641da4658b95941380f8485ea": {
          "model_module": "@jupyter-widgets/base",
          "model_name": "LayoutModel",
          "model_module_version": "1.2.0",
          "state": {
            "_model_module": "@jupyter-widgets/base",
            "_model_module_version": "1.2.0",
            "_model_name": "LayoutModel",
            "_view_count": null,
            "_view_module": "@jupyter-widgets/base",
            "_view_module_version": "1.2.0",
            "_view_name": "LayoutView",
            "align_content": null,
            "align_items": null,
            "align_self": null,
            "border": null,
            "bottom": null,
            "display": null,
            "flex": null,
            "flex_flow": null,
            "grid_area": null,
            "grid_auto_columns": null,
            "grid_auto_flow": null,
            "grid_auto_rows": null,
            "grid_column": null,
            "grid_gap": null,
            "grid_row": null,
            "grid_template_areas": null,
            "grid_template_columns": null,
            "grid_template_rows": null,
            "height": null,
            "justify_content": null,
            "justify_items": null,
            "left": null,
            "margin": null,
            "max_height": null,
            "max_width": null,
            "min_height": null,
            "min_width": null,
            "object_fit": null,
            "object_position": null,
            "order": null,
            "overflow": null,
            "overflow_x": null,
            "overflow_y": null,
            "padding": null,
            "right": null,
            "top": null,
            "visibility": null,
            "width": null
          }
        },
        "9ba68b9655aa4f4796497ad1dd8056fe": {
          "model_module": "@jupyter-widgets/base",
          "model_name": "LayoutModel",
          "model_module_version": "1.2.0",
          "state": {
            "_model_module": "@jupyter-widgets/base",
            "_model_module_version": "1.2.0",
            "_model_name": "LayoutModel",
            "_view_count": null,
            "_view_module": "@jupyter-widgets/base",
            "_view_module_version": "1.2.0",
            "_view_name": "LayoutView",
            "align_content": null,
            "align_items": "center",
            "align_self": null,
            "border": null,
            "bottom": null,
            "display": null,
            "flex": null,
            "flex_flow": null,
            "grid_area": null,
            "grid_auto_columns": null,
            "grid_auto_flow": null,
            "grid_auto_rows": null,
            "grid_column": null,
            "grid_gap": null,
            "grid_row": null,
            "grid_template_areas": null,
            "grid_template_columns": null,
            "grid_template_rows": null,
            "height": null,
            "justify_content": null,
            "justify_items": null,
            "left": null,
            "margin": null,
            "max_height": null,
            "max_width": null,
            "min_height": null,
            "min_width": null,
            "object_fit": null,
            "object_position": null,
            "order": null,
            "overflow": null,
            "overflow_x": null,
            "overflow_y": null,
            "padding": "3px",
            "right": null,
            "top": null,
            "visibility": null,
            "width": "500px"
          }
        },
        "4af1e53f038b41608ac79db725336912": {
          "model_module": "@jupyter-widgets/controls",
          "model_name": "DescriptionStyleModel",
          "model_module_version": "1.5.0",
          "state": {
            "_model_module": "@jupyter-widgets/controls",
            "_model_module_version": "1.5.0",
            "_model_name": "DescriptionStyleModel",
            "_view_count": null,
            "_view_module": "@jupyter-widgets/base",
            "_view_module_version": "1.2.0",
            "_view_name": "StyleView",
            "description_width": "100px"
          }
        },
        "fb435005aa724d4fbe7ce8fd2923b950": {
          "model_module": "@jupyter-widgets/controls",
          "model_name": "DescriptionStyleModel",
          "model_module_version": "1.5.0",
          "state": {
            "_model_module": "@jupyter-widgets/controls",
            "_model_module_version": "1.5.0",
            "_model_name": "DescriptionStyleModel",
            "_view_count": null,
            "_view_module": "@jupyter-widgets/base",
            "_view_module_version": "1.2.0",
            "_view_name": "StyleView",
            "description_width": "100px"
          }
        },
        "de43ed52400141748f41f22e2793a166": {
          "model_module": "@jupyter-widgets/controls",
          "model_name": "DescriptionStyleModel",
          "model_module_version": "1.5.0",
          "state": {
            "_model_module": "@jupyter-widgets/controls",
            "_model_module_version": "1.5.0",
            "_model_name": "DescriptionStyleModel",
            "_view_count": null,
            "_view_module": "@jupyter-widgets/base",
            "_view_module_version": "1.2.0",
            "_view_name": "StyleView",
            "description_width": "100px"
          }
        },
        "d96cadbd05a14955a1743cfe6dca7a91": {
          "model_module": "@jupyter-widgets/controls",
          "model_name": "DescriptionStyleModel",
          "model_module_version": "1.5.0",
          "state": {
            "_model_module": "@jupyter-widgets/controls",
            "_model_module_version": "1.5.0",
            "_model_name": "DescriptionStyleModel",
            "_view_count": null,
            "_view_module": "@jupyter-widgets/base",
            "_view_module_version": "1.2.0",
            "_view_name": "StyleView",
            "description_width": "100px"
          }
        },
        "2915fba2252247a982134220ab48757e": {
          "model_module": "@jupyter-widgets/controls",
          "model_name": "DescriptionStyleModel",
          "model_module_version": "1.5.0",
          "state": {
            "_model_module": "@jupyter-widgets/controls",
            "_model_module_version": "1.5.0",
            "_model_name": "DescriptionStyleModel",
            "_view_count": null,
            "_view_module": "@jupyter-widgets/base",
            "_view_module_version": "1.2.0",
            "_view_name": "StyleView",
            "description_width": "100px"
          }
        },
        "8c6cf24c8c6445da9474dc5723983b9a": {
          "model_module": "@jupyter-widgets/controls",
          "model_name": "DescriptionStyleModel",
          "model_module_version": "1.5.0",
          "state": {
            "_model_module": "@jupyter-widgets/controls",
            "_model_module_version": "1.5.0",
            "_model_name": "DescriptionStyleModel",
            "_view_count": null,
            "_view_module": "@jupyter-widgets/base",
            "_view_module_version": "1.2.0",
            "_view_name": "StyleView",
            "description_width": "100px"
          }
        },
        "9e352b2618ca41bab0d0800300efa878": {
          "model_module": "@jupyter-widgets/controls",
          "model_name": "DescriptionStyleModel",
          "model_module_version": "1.5.0",
          "state": {
            "_model_module": "@jupyter-widgets/controls",
            "_model_module_version": "1.5.0",
            "_model_name": "DescriptionStyleModel",
            "_view_count": null,
            "_view_module": "@jupyter-widgets/base",
            "_view_module_version": "1.2.0",
            "_view_name": "StyleView",
            "description_width": "100px"
          }
        },
        "a4b86c736f3d41eab64879129761f3a2": {
          "model_module": "@jupyter-widgets/controls",
          "model_name": "ButtonModel",
          "model_module_version": "1.5.0",
          "state": {
            "_dom_classes": [],
            "_model_module": "@jupyter-widgets/controls",
            "_model_module_version": "1.5.0",
            "_model_name": "ButtonModel",
            "_view_count": null,
            "_view_module": "@jupyter-widgets/controls",
            "_view_module_version": "1.5.0",
            "_view_name": "ButtonView",
            "button_style": "success",
            "description": "Save",
            "disabled": false,
            "icon": "",
            "layout": "IPY_MODEL_71bbc63ae6124fd6b6e343483b7939a4",
            "style": "IPY_MODEL_07be665790aa47b68a58ff704b913a59",
            "tooltip": ""
          }
        },
        "71bbc63ae6124fd6b6e343483b7939a4": {
          "model_module": "@jupyter-widgets/base",
          "model_name": "LayoutModel",
          "model_module_version": "1.2.0",
          "state": {
            "_model_module": "@jupyter-widgets/base",
            "_model_module_version": "1.2.0",
            "_model_name": "LayoutModel",
            "_view_count": null,
            "_view_module": "@jupyter-widgets/base",
            "_view_module_version": "1.2.0",
            "_view_name": "LayoutView",
            "align_content": null,
            "align_items": null,
            "align_self": null,
            "border": null,
            "bottom": null,
            "display": null,
            "flex": null,
            "flex_flow": null,
            "grid_area": null,
            "grid_auto_columns": null,
            "grid_auto_flow": null,
            "grid_auto_rows": null,
            "grid_column": null,
            "grid_gap": null,
            "grid_row": null,
            "grid_template_areas": null,
            "grid_template_columns": null,
            "grid_template_rows": null,
            "height": null,
            "justify_content": null,
            "justify_items": null,
            "left": null,
            "margin": null,
            "max_height": null,
            "max_width": null,
            "min_height": null,
            "min_width": null,
            "object_fit": null,
            "object_position": null,
            "order": null,
            "overflow": null,
            "overflow_x": null,
            "overflow_y": null,
            "padding": null,
            "right": null,
            "top": null,
            "visibility": null,
            "width": null
          }
        },
        "07be665790aa47b68a58ff704b913a59": {
          "model_module": "@jupyter-widgets/controls",
          "model_name": "ButtonStyleModel",
          "model_module_version": "1.5.0",
          "state": {
            "_model_module": "@jupyter-widgets/controls",
            "_model_module_version": "1.5.0",
            "_model_name": "ButtonStyleModel",
            "_view_count": null,
            "_view_module": "@jupyter-widgets/base",
            "_view_module_version": "1.2.0",
            "_view_name": "StyleView",
            "button_color": null,
            "font_weight": ""
          }
        },
        "1815cba3eca5417792df991835bc6ecb": {
          "model_module": "@jupyter-widgets/output",
          "model_name": "OutputModel",
          "model_module_version": "1.0.0",
          "state": {
            "_dom_classes": [],
            "_model_module": "@jupyter-widgets/output",
            "_model_module_version": "1.0.0",
            "_model_name": "OutputModel",
            "_view_count": null,
            "_view_module": "@jupyter-widgets/output",
            "_view_module_version": "1.0.0",
            "_view_name": "OutputView",
            "layout": "IPY_MODEL_9e5d2ad1d4c143e8a698b26aa363aa3a",
            "msg_id": "",
            "outputs": [
              {
                "output_type": "stream",
                "name": "stdout",
                "text": [
                  "Data saved\n"
                ]
              }
            ]
          }
        },
        "9e5d2ad1d4c143e8a698b26aa363aa3a": {
          "model_module": "@jupyter-widgets/base",
          "model_name": "LayoutModel",
          "model_module_version": "1.2.0",
          "state": {
            "_model_module": "@jupyter-widgets/base",
            "_model_module_version": "1.2.0",
            "_model_name": "LayoutModel",
            "_view_count": null,
            "_view_module": "@jupyter-widgets/base",
            "_view_module_version": "1.2.0",
            "_view_name": "LayoutView",
            "align_content": null,
            "align_items": null,
            "align_self": null,
            "border": null,
            "bottom": null,
            "display": null,
            "flex": null,
            "flex_flow": null,
            "grid_area": null,
            "grid_auto_columns": null,
            "grid_auto_flow": null,
            "grid_auto_rows": null,
            "grid_column": null,
            "grid_gap": null,
            "grid_row": null,
            "grid_template_areas": null,
            "grid_template_columns": null,
            "grid_template_rows": null,
            "height": null,
            "justify_content": null,
            "justify_items": null,
            "left": null,
            "margin": null,
            "max_height": null,
            "max_width": null,
            "min_height": null,
            "min_width": null,
            "object_fit": null,
            "object_position": null,
            "order": null,
            "overflow": null,
            "overflow_x": null,
            "overflow_y": null,
            "padding": null,
            "right": null,
            "top": null,
            "visibility": null,
            "width": null
          }
        }
      }
    }
  },
  "cells": [
    {
      "cell_type": "code",
      "source": [
        "import json\n",
        "import ipywidgets as widgets"
      ],
      "metadata": {
        "id": "qzCBAQS_71ni"
      },
      "execution_count": 1,
      "outputs": []
    },
    {
      "cell_type": "code",
      "source": [
        "# load the json file with the students data\n",
        "with open(\"student.json\", \"r\") as file:\n",
        "  data = json.load(file)\n",
        "\n",
        "studentDict = {}\n",
        "for student in data:\n",
        "  studentDict[student[\"name\"]] = student\n",
        "# print(studentDict)\n",
        "\n",
        "\n",
        "def saveData():\n",
        "  with open(\"student.json\", \"w\") as file:\n",
        "    json.dump(data, file, indent=4)"
      ],
      "metadata": {
        "id": "KH3ffICB7o8G"
      },
      "execution_count": 2,
      "outputs": []
    },
    {
      "cell_type": "code",
      "source": [
        "myLayout = widgets.Layout(\n",
        "    width='500px',\n",
        "    padding='3px',\n",
        "    align_items='center'\n",
        ")\n",
        "description_width = \"100px\""
      ],
      "metadata": {
        "id": "h19NdcSnNo4P"
      },
      "execution_count": 3,
      "outputs": []
    },
    {
      "cell_type": "code",
      "source": [
        "dropdown = widgets.Dropdown(\n",
        "    options=[\"Select a student\"] + list(studentDict.keys()),\n",
        "    description=\"Student: \",\n",
        "    style={'description_width': description_width},\n",
        "    layout=myLayout\n",
        ")\n",
        "ftDict  = {}\n",
        "ftDict[\"name\"] = widgets.Text(\n",
        "    description=\"First Name: \",\n",
        "    value=\"unknown\",\n",
        "    disabled=True,\n",
        "    style={'description_width': description_width},\n",
        "    layout=myLayout\n",
        ")\n",
        "ftDict[\"last name\"] = widgets.Text(\n",
        "    description=\"Last Name: \",\n",
        "    value=\"unknown\",\n",
        "    disabled=True,\n",
        "    style={'description_width': description_width},\n",
        "    layout=myLayout\n",
        ")\n",
        "ftDict[\"mail\"] = widgets.Text(\n",
        "    description=\"Mail: \",\n",
        "    value=\"unknown\",\n",
        "    disabled=True,\n",
        "    style={'description_width': description_width},\n",
        "    layout=myLayout\n",
        ")\n",
        "ftDict[\"courses\"] = widgets.Text(\n",
        "    description=\"Courses: \",\n",
        "    value=\"unknown\",\n",
        "    disabled=True,\n",
        "    style={'description_width': description_width},\n",
        "    layout=myLayout\n",
        ")\n",
        "ftDict[\"link\"] = widgets.Text(\n",
        "    description=\"Courses: \",\n",
        "    value=\"unknown\",\n",
        "    disabled=True,\n",
        "    style={'description_width': description_width},\n",
        "    layout=myLayout\n",
        ")\n",
        "ftDict[\"favorite series\"] = widgets.Text(\n",
        "    description=\"favorite series: \",\n",
        "    disabled=False,\n",
        "    style={'description_width': description_width},\n",
        "    layout=myLayout\n",
        ")\n",
        "\n",
        "#output = widgets.Output()\n",
        "\n",
        "def display_data(changeData):\n",
        "  #output.clear_output()\n",
        "\n",
        "  if (changeData.new != \"Select a student\"):\n",
        "    newStudent = studentDict[changeData.new]\n",
        "    #print(newStudent)\n",
        "    for key,value in newStudent.items():\n",
        "        #print(f\"{key}: {value}\")\n",
        "        ftDict[key].value = str(value)\n",
        "    #showFT.value = newStudent[\"favorite series\"]\n",
        "    if \"favorite series\" not in newStudent.keys():\n",
        "      ftDict[\"favorite series\"].value = \"\"\n",
        "\n",
        "def update_show(change):\n",
        "  selectedStudent = dropdown.value\n",
        "  if change.new != \"\" and selectedStudent in studentDict.keys():\n",
        "    studentDict[selectedStudent][\"favorite series\"] = change.new\n",
        "\n",
        "dropdown.observe(display_data, names=\"value\")\n",
        "ftDict[\"favorite series\"].observe(update_show, names=\"value\")"
      ],
      "metadata": {
        "id": "lC7NvD2C9LMa"
      },
      "execution_count": 4,
      "outputs": []
    },
    {
      "cell_type": "code",
      "source": [
        "saveBtn = widgets.Button(\n",
        "    description=\"Save\",\n",
        "    button_style=\"success\"\n",
        ")\n",
        "\n",
        "output = widgets.Output()\n",
        "\n",
        "def saveBtn_clicked(btn):\n",
        "  with output:\n",
        "      print(\"Saving...\")\n",
        "      output.clear_output()\n",
        "      saveData()\n",
        "      print(\"Data saved\")\n",
        "\n",
        "saveBtn.on_click(saveBtn_clicked)"
      ],
      "metadata": {
        "id": "jTf1TslOLzGl"
      },
      "execution_count": 5,
      "outputs": []
    },
    {
      "cell_type": "code",
      "source": [
        "display(widgets.VBox([dropdown] + list(ftDict.values())), saveBtn, output)"
      ],
      "metadata": {
        "colab": {
          "base_uri": "https://localhost:8080/",
          "height": 327,
          "referenced_widgets": [
            "6e08cd0c612d483eae777639310cf0cc",
            "232583e0cd24468ca292bb08e84e8a24",
            "001a59671ee44c12a116e35b3bce39d2",
            "9c316ae26db74162be496fc88bf6ca81",
            "5c8335edb2c94d7d85b89bff39045511",
            "37b8c2a5c761434c802b57db2f70dad5",
            "fce2c047fcb94991b17b4fe97ebbe3cf",
            "fd0d2ce3fc2940038b4140f8666bba33",
            "4b6d717641da4658b95941380f8485ea",
            "9ba68b9655aa4f4796497ad1dd8056fe",
            "4af1e53f038b41608ac79db725336912",
            "fb435005aa724d4fbe7ce8fd2923b950",
            "de43ed52400141748f41f22e2793a166",
            "d96cadbd05a14955a1743cfe6dca7a91",
            "2915fba2252247a982134220ab48757e",
            "8c6cf24c8c6445da9474dc5723983b9a",
            "9e352b2618ca41bab0d0800300efa878",
            "a4b86c736f3d41eab64879129761f3a2",
            "71bbc63ae6124fd6b6e343483b7939a4",
            "07be665790aa47b68a58ff704b913a59",
            "1815cba3eca5417792df991835bc6ecb",
            "9e5d2ad1d4c143e8a698b26aa363aa3a"
          ]
        },
        "id": "k0NoRtDa-B9k",
        "outputId": "571aadd1-ad64-46af-c25c-5bf60db43b35"
      },
      "execution_count": 6,
      "outputs": [
        {
          "output_type": "display_data",
          "data": {
            "text/plain": [
              "VBox(children=(Dropdown(description='Student: ', layout=Layout(align_items='center', padding='3px', width='500…"
            ],
            "application/vnd.jupyter.widget-view+json": {
              "version_major": 2,
              "version_minor": 0,
              "model_id": "6e08cd0c612d483eae777639310cf0cc"
            }
          },
          "metadata": {}
        },
        {
          "output_type": "display_data",
          "data": {
            "text/plain": [
              "Button(button_style='success', description='Save', style=ButtonStyle())"
            ],
            "application/vnd.jupyter.widget-view+json": {
              "version_major": 2,
              "version_minor": 0,
              "model_id": "a4b86c736f3d41eab64879129761f3a2"
            }
          },
          "metadata": {}
        },
        {
          "output_type": "display_data",
          "data": {
            "text/plain": [
              "Output()"
            ],
            "application/vnd.jupyter.widget-view+json": {
              "version_major": 2,
              "version_minor": 0,
              "model_id": "1815cba3eca5417792df991835bc6ecb"
            }
          },
          "metadata": {}
        }
      ]
    }
  ]
}